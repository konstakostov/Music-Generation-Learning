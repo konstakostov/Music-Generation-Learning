{
 "cells": [
  {
   "metadata": {},
   "cell_type": "code",
   "source": [
    "from transformers import AutoProcessor, MusicgenForConditionalGeneration\n",
    "from IPython.display import Audio\n",
    "import soundfile as sf\n",
    "import numpy as np"
   ],
   "id": "e51bcb2dafe509a1",
   "outputs": [],
   "execution_count": null
  },
  {
   "cell_type": "code",
   "id": "initial_id",
   "metadata": {
    "collapsed": true
   },
   "source": [
    "processor = AutoProcessor.from_pretrained(\"facebook/musicgen-small\")\n",
    "model = MusicgenForConditionalGeneration.from_pretrained(\"facebook/musicgen-small\")"
   ],
   "outputs": [],
   "execution_count": null
  },
  {
   "metadata": {},
   "cell_type": "code",
   "source": [
    "inputs = processor(\n",
    "    text=[\"Classic Rock song with guitar solo in 30 seconds\"],\n",
    "    padding=True,\n",
    "    return_tensors=\"pt\",\n",
    ")\n",
    "\n",
    "audio_values = model.generate(**inputs, max_new_tokens=1536)\n",
    "\n",
    "# Get the sampling rate from the model's configuration\n",
    "sampling_rate = model.config.audio_encoder.sampling_rate\n",
    "\n",
    "# Convert audio values to numpy array\n",
    "audio_values_np = audio_values[0].numpy()\n",
    "\n",
    "# Ensure data is in the correct format and range & clip to [-1.0, 1.0] range if necessary\n",
    "audio_values_np = np.clip(audio_values_np, -1.0, 1.0)\n",
    "\n",
    "# Convert data to float32 (if necessary)\n",
    "audio_values_np = audio_values_np.astype(np.float32)\n",
    "\n",
    "# Check if audio_values_np is mono (1D) or stereo (2D)\n",
    "# If Stereo (2D), the second dimension is channels\n",
    "if audio_values_np.ndim == 1:\n",
    "    audio_values_np = audio_values_np[None, :]  # Add channel dimension if mono\n",
    "\n",
    "# Save as a .wav file\n",
    "sf.write('generated_audio_02.wav', audio_values_np.T, sampling_rate)  # Transpose if necessary\n",
    "\n",
    "# Play the generated audio in the Notebook\n",
    "Audio(audio_values[0].numpy(), rate=sampling_rate)"
   ],
   "id": "738ebffe226a5875",
   "outputs": [],
   "execution_count": null
  }
 ],
 "metadata": {
  "kernelspec": {
   "display_name": "Python 3",
   "language": "python",
   "name": "python3"
  },
  "language_info": {
   "codemirror_mode": {
    "name": "ipython",
    "version": 2
   },
   "file_extension": ".py",
   "mimetype": "text/x-python",
   "name": "python",
   "nbconvert_exporter": "python",
   "pygments_lexer": "ipython2",
   "version": "2.7.6"
  }
 },
 "nbformat": 4,
 "nbformat_minor": 5
}
