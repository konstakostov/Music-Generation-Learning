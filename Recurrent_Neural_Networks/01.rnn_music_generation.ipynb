{
 "cells": [
  {
   "metadata": {},
   "cell_type": "markdown",
   "source": "# Music Generation using RNN (Recurrent Neural Network)",
   "id": "9ed59d2a257ad9c5"
  },
  {
   "metadata": {},
   "cell_type": "markdown",
   "source": [
    "## Dependencies\n",
    "\n",
    "FluidSynth is required for playing the audio in the Notebook. Install via the commands:\n",
    "* `sudo apt install -y fluidsynth`\n",
    "* `pip install --upgrade pyfluidsynth`\n",
    "\n",
    "The other dependencies should be installed from the `requirements.txt` file.\n",
    "\n",
    "1. File and Path Operations\n",
    "    * `import pathlib`: Provide object-oriented filesystem paths.\n",
    "    * `import glob`: For filename pattern matching.\n",
    "    * `import zipfile`: Tools for working with ZIP archives.\n",
    "    * `import datetime`: Date and time operations.\n",
    "2. Data Handling and Analysis\n",
    "    * `import pandas as pd`: Provide data structures and data analysis tools (e.g., DataFrames).\n",
    "    * `import numpy as np`: Supports large, multi-dimensional arrays and matrices, along with a large collection of mathematical functions.\n",
    "    * `import collections`: Implement specialized container datatypes (e.g., Counter, defaultdict).\n",
    "3. MIDI and Audio Processing\n",
    "    * `import pretty_midi`: Facilitate MIDI file manipulation and audio synthesis.\n",
    "    * `import fluidsynth`: Tools to synthesize audio from MIDI files using SoundFonts.\n",
    "4. Data Visualization\n",
    "    * `import matplotlib.pyplot as plt`: Plotting & Visualizing data.\n",
    "    `* import seaborn as sns`: Drawing statistical graphics.\n",
    "5. HTTP Requests\n",
    "    * `import requests`: Simplify making HTTP requests.\n",
    "6. Machine Learning and PyTorch\n",
    "    * `import torch`: Tools for deep learning and tensor computations.\n",
    "7. IPython Display\n",
    "    * `from IPython import display`: Display functions for Jupyter Notebooks.\n",
    "8. Type Hinting\n",
    "    * `from typing import Optional`: Support for type hints and annotation"
   ],
   "id": "10f98d7019e52028"
  },
  {
   "cell_type": "code",
   "id": "initial_id",
   "metadata": {
    "collapsed": true
   },
   "source": [
    "import pathlib\n",
    "import glob\n",
    "import zipfile\n",
    "import datetime\n",
    "\n",
    "import pandas as pd\n",
    "import numpy as np\n",
    "import collections\n",
    "\n",
    "import pretty_midi\n",
    "import fluidsynth\n",
    "\n",
    "import matplotlib.pyplot as plt\n",
    "import seaborn as sns\n",
    "\n",
    "import requests\n",
    "\n",
    "import torch\n",
    "\n",
    "from IPython import display\n",
    "\n",
    "from typing import Optional"
   ],
   "outputs": [],
   "execution_count": null
  },
  {
   "metadata": {},
   "cell_type": "code",
   "source": [
    "seed = 42\n",
    "\n",
    "torch.manual_seed(seed)\n",
    "np.random.seed(seed)\n",
    "\n",
    "# Sampling rate for the audio playback\n",
    "SAMPLING_RATE = 16_000"
   ],
   "id": "694438d8a83cbf6b",
   "outputs": [],
   "execution_count": null
  },
  {
   "metadata": {},
   "cell_type": "markdown",
   "source": [
    "## Download the Maestro V3.0.0 Dataset\n",
    "\n",
    "The dataset is to be downloaded and unzipped in a specific folder. Console messages are informing about the current status of the downloading/unzipping of the dataset."
   ],
   "id": "6bc7d37fa1e675ca"
  },
  {
   "metadata": {},
   "cell_type": "code",
   "source": [
    "data_dir = pathlib.Path(\"data/maestro-v3.0.0\")\n",
    "zip_file_path = pathlib.Path(\"data/maestro-v3.0.0-midi.zip\")\n",
    "URL = \"https://storage.googleapis.com/magentadata/datasets/maestro/v3.0.0/maestro-v3.0.0-midi.zip\"\n",
    "\n",
    "# Check if the data directory exists & create it if it does not exist\n",
    "if not data_dir.exists():\n",
    "    data_dir.parent.mkdir(parents=True, exist_ok=True)\n",
    "\n",
    "if not zip_file_path.exists():\n",
    "    print(f\"Downloading {URL}...\")\n",
    "    \n",
    "    response = requests.get(URL, stream=True)\n",
    "    # Check for request errors\n",
    "    response.raise_for_status()\n",
    "    \n",
    "    # Save the .zip file to the disk\n",
    "    with open(zip_file_path, \"wb\") as f:\n",
    "        for chunk in response.iter_content(chunk_size=8192):\n",
    "            f.write(chunk)\n",
    "    \n",
    "    print(\"Download Completed.\")\n",
    "\n",
    "# Verify the downloaded file\n",
    "if zip_file_path.exists():\n",
    "    try:\n",
    "        print(f\"Extracting {zip_file_path}...\")\n",
    "        with zipfile.ZipFile(zip_file_path, 'r') as zip_ref:\n",
    "            zip_ref.extractall('data')\n",
    "        print(\"Extraction completed.\")\n",
    "    except zipfile.BadZipFile:\n",
    "        print(\"Error: The file is not a valid ZIP file or it is corrupted.\")\n",
    "else:\n",
    "    print(\"Error: ZIP file does not exist.\")"
   ],
   "id": "5b9a2d59600e8b9c",
   "outputs": [],
   "execution_count": null
  },
  {
   "metadata": {},
   "cell_type": "code",
   "source": [
    "# Checking the number of MIDI files in the Maestro dataset\n",
    "filenames = glob.glob(str(data_dir/'**/*.mid*'))\n",
    "print('Number of files:', len(filenames))"
   ],
   "id": "7a24b3ad9a379f2c",
   "outputs": [],
   "execution_count": null
  },
  {
   "metadata": {},
   "cell_type": "markdown",
   "source": "## Process a Single MIDI File",
   "id": "9c09fac84334e2ce"
  },
  {
   "metadata": {},
   "cell_type": "markdown",
   "source": "A single MIDI file is parsed and printed on the console to be inspected. ",
   "id": "6429d3d52940f7b9"
  },
  {
   "metadata": {},
   "cell_type": "code",
   "source": [
    "sample_file = filenames[0]\n",
    "print(sample_file)"
   ],
   "id": "ab3162dbef385e7f",
   "outputs": [],
   "execution_count": null
  },
  {
   "metadata": {},
   "cell_type": "markdown",
   "source": "A *`PrettyMIDI`* object is generated for the selected MIDI file.",
   "id": "e4b6afce252b51ba"
  },
  {
   "metadata": {},
   "cell_type": "code",
   "source": "pm_object = pretty_midi.PrettyMIDI(sample_file)",
   "id": "d9044753e3e3d9e0",
   "outputs": [],
   "execution_count": null
  },
  {
   "metadata": {},
   "cell_type": "markdown",
   "source": "The selected MIDI file is played directly in the Notebook.",
   "id": "20a39ec8b78b4df8"
  },
  {
   "metadata": {},
   "cell_type": "code",
   "source": [
    "def display_audio(pm: pretty_midi.PrettyMIDI, seconds=30):\n",
    "    waveform = pm.fluidsynth(fs=SAMPLING_RATE)\n",
    "    # Take a sample of the generated waveform to mitigate kernel resets\n",
    "    waveform_short = waveform[:seconds*SAMPLING_RATE]\n",
    "    return display.Audio(waveform_short, rate=SAMPLING_RATE)"
   ],
   "id": "e236f9b92f44ec88",
   "outputs": [],
   "execution_count": null
  },
  {
   "metadata": {},
   "cell_type": "code",
   "source": "display_audio(pm_object)",
   "id": "8c02d3431554aad7",
   "outputs": [],
   "execution_count": null
  },
  {
   "metadata": {},
   "cell_type": "markdown",
   "source": "In the console is printed information about the selected MIDI file (number of instruments & their type)",
   "id": "9198e88be07395c1"
  },
  {
   "metadata": {},
   "cell_type": "code",
   "source": [
    "print('Number of instruments:', len(pm_object.instruments))\n",
    "instrument = pm_object.instruments[0]\n",
    "instrument_name = pretty_midi.program_to_instrument_name(instrument.program)\n",
    "print('Instrument name:', instrument_name)"
   ],
   "id": "47b17111cc6f6264",
   "outputs": [],
   "execution_count": null
  },
  {
   "metadata": {},
   "cell_type": "markdown",
   "source": "## Note Extraction",
   "id": "e08df1626ef562e3"
  },
  {
   "metadata": {},
   "cell_type": "markdown",
   "source": "The first 10 notes from the selected MIDI file are selected. For each of them the pitch, name and duration is determined and printed in the console.",
   "id": "e8a7f0eeda8d87f7"
  },
  {
   "metadata": {},
   "cell_type": "code",
   "source": [
    "for i, note in enumerate(instrument.notes[:10]):\n",
    "    note_name = pretty_midi.note_number_to_name(note.pitch)\n",
    "    duration = note.end - note.start\n",
    "    print(f'{i}: pitch={note.pitch}, note_name={note_name}, duration={duration:.4f}')"
   ],
   "id": "f3763fc8d744f9c7",
   "outputs": [],
   "execution_count": null
  },
  {
   "metadata": {},
   "cell_type": "markdown",
   "source": "### Extract Notes from MIDI function",
   "id": "b6b38753639b4a6d"
  },
  {
   "metadata": {},
   "cell_type": "code",
   "source": [
    "def midi_to_notes(midi_file: str) -> pd.DataFrame:\n",
    "    pm = pretty_midi.PrettyMIDI(midi_file)\n",
    "    instrument = pm.instruments[0]\n",
    "    notes = collections.defaultdict(list)\n",
    "    \n",
    "    # Sort notes by Start Time\n",
    "    sorted_notes = sorted(instrument.notes, key=lambda n: n.start)\n",
    "    prev_start = sorted_notes[0].start\n",
    "    \n",
    "    for current_note in sorted_notes:\n",
    "        start_time = current_note.start\n",
    "        end_time = current_note.end\n",
    "        \n",
    "        notes[\"pitch\"].append(current_note.pitch)\n",
    "        notes[\"start_time\"].append(start_time)\n",
    "        notes[\"end_time\"].append(end_time)\n",
    "        notes[\"step\"].append(start_time - prev_start)\n",
    "        notes[\"duration\"].append(end_time - start_time)\n",
    "        \n",
    "        prev_start = start_time\n",
    "    \n",
    "    return pd.DataFrame({name: np.array(value) for name, value in notes.items()})"
   ],
   "id": "42b29eb4152893e8",
   "outputs": [],
   "execution_count": null
  },
  {
   "metadata": {},
   "cell_type": "code",
   "source": [
    "raw_notes = midi_to_notes(sample_file)\n",
    "raw_notes.head()"
   ],
   "id": "7e8b83871516a0d4",
   "outputs": [],
   "execution_count": null
  }
 ],
 "metadata": {
  "kernelspec": {
   "display_name": "Python 3",
   "language": "python",
   "name": "python3"
  },
  "language_info": {
   "codemirror_mode": {
    "name": "ipython",
    "version": 2
   },
   "file_extension": ".py",
   "mimetype": "text/x-python",
   "name": "python",
   "nbconvert_exporter": "python",
   "pygments_lexer": "ipython2",
   "version": "2.7.6"
  }
 },
 "nbformat": 4,
 "nbformat_minor": 5
}
