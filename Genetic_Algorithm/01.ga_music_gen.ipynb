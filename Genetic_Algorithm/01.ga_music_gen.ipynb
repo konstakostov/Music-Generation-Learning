{
 "cells": [
  {
   "metadata": {},
   "cell_type": "markdown",
   "source": "# Genetic Algorithm",
   "id": "f9612ff55fd2ab85"
  },
  {
   "metadata": {},
   "cell_type": "markdown",
   "source": "## Import Libraries",
   "id": "b6583156bfc1476b"
  },
  {
   "metadata": {
    "collapsed": true
   },
   "cell_type": "code",
   "source": [
    "import torch\n",
    "import pathlib\n",
    "import requests\n",
    "import zipfile\n",
    "import glob\n",
    "import pretty_midi\n",
    "import random\n",
    "from collections import Counter\n",
    "from IPython.display import Audio\n",
    "import numpy as np\n",
    "from scipy.io.wavfile import write"
   ],
   "id": "dbed6b1241db4a06",
   "outputs": [],
   "execution_count": null
  },
  {
   "metadata": {},
   "cell_type": "markdown",
   "source": "## Set the device to GPU if available",
   "id": "8b2cbd97f1778ff7"
  },
  {
   "metadata": {},
   "cell_type": "code",
   "source": [
    "device = torch.device('cuda' if torch.cuda.is_available() else 'cpu')\n",
    "\n",
    "print(f\"Using device: {device}\")"
   ],
   "id": "d82835ec7e5938b6",
   "outputs": [],
   "execution_count": null
  },
  {
   "metadata": {},
   "cell_type": "markdown",
   "source": "## Constants",
   "id": "c41fcfdc299a6a8d"
  },
  {
   "metadata": {},
   "cell_type": "code",
   "source": [
    "# This is the URL for the dataset that will be downloaded & extracted\n",
    "URL = \"https://storage.googleapis.com/magentadata/datasets/maestro/v3.0.0/maestro-v3.0.0-midi.zip\"\n",
    "\n",
    "# The downloaded dataset will be stored at this path\n",
    "ZIP_FILE_PATH = pathlib.Path(\"data/maestro-v3.0.0-midi.zip\")\n",
    "\n",
    "# The dataset will be stored at this path after extraction\n",
    "DATA_FOLDER_PATH = pathlib.Path(\"data/maestro-v3.0.0\")"
   ],
   "id": "7c9fb3cf9574721c",
   "outputs": [],
   "execution_count": null
  },
  {
   "metadata": {},
   "cell_type": "markdown",
   "source": "## Download and Extract Dataset",
   "id": "404513c915cc5528"
  },
  {
   "metadata": {},
   "cell_type": "code",
   "source": [
    "# Check if the directory where the dataset will be stored exists & if it doesn't - create it\n",
    "if not DATA_FOLDER_PATH.exists():\n",
    "    DATA_FOLDER_PATH.parent.mkdir(parents=True, exist_ok=True)\n",
    "\n",
    "# Check if the .zip file (dataset) has been downloaded & if it isn't download id\n",
    "if not ZIP_FILE_PATH.exists():\n",
    "    print(f\"Downloading {URL}...\")\n",
    "    response = requests.get(URL, stream=True)\n",
    "    response.raise_for_status()\n",
    "    \n",
    "    with open(ZIP_FILE_PATH, \"wb\") as f:\n",
    "        for chunk in response.iter_content(chunk_size=8192):\n",
    "            f.write(chunk)\n",
    "    print(\"Download Completed.\")\n",
    "\n",
    "# Check if the dataset is downloaded & if it is extract its contents\n",
    "if ZIP_FILE_PATH.exists():\n",
    "    try:\n",
    "        print(f\"Extracting {ZIP_FILE_PATH}...\")\n",
    "        with zipfile.ZipFile(ZIP_FILE_PATH, 'r') as zip_ref:\n",
    "            zip_ref.extractall('data')\n",
    "        print(\"Extraction completed.\")\n",
    "    except zipfile.BadZipFile:\n",
    "        print(\"Error: The file is not a valid ZIP file or it is corrupted.\")\n",
    "else:\n",
    "    print(\"Error: ZIP file does not exist.\")"
   ],
   "id": "b8d1a0e481cfbc1d",
   "outputs": [],
   "execution_count": null
  },
  {
   "metadata": {},
   "cell_type": "markdown",
   "source": "## Functions",
   "id": "90ea266dacecd1d2"
  },
  {
   "metadata": {},
   "cell_type": "markdown",
   "source": "### Load a MIDI file and convert it into a sequence of note numbers",
   "id": "186b7f8522658ea7"
  },
  {
   "metadata": {},
   "cell_type": "code",
   "source": [
    "def midi_to_sequence(midi_to_seq):\n",
    "    # Store notes (and their pitch) extracted from the MIDI file\n",
    "    notes = []\n",
    "\n",
    "    # Load the MIDI file as a PrettyMIDID object\n",
    "    midi_data = pretty_midi.PrettyMIDI(midi_to_seq)\n",
    "\n",
    "    # Iterate over the instruments in the MIDI file\n",
    "    for instrument in midi_data.instruments:\n",
    "        # Drums do not hold pitch differently, so drums won't be processed\n",
    "        if not instrument.is_drum:\n",
    "            for note in instrument.notes:\n",
    "                notes.append(note.pitch)\n",
    "\n",
    "    # Return notes and their pitch as a PyTorch tensor\n",
    "    return torch.tensor(notes, device=device)"
   ],
   "id": "421f11565c277afe",
   "outputs": [],
   "execution_count": null
  },
  {
   "metadata": {},
   "cell_type": "markdown",
   "source": "### Load MIDI files from the Dataset",
   "id": "42616bb12ade0642"
  },
  {
   "metadata": {},
   "cell_type": "code",
   "source": [
    "def load_midi_files(num_files=None):\n",
    "    # Search for MIDI files and return the number of found files\n",
    "    all_filenames = glob.glob(str(DATA_FOLDER_PATH / '**/*.mid*'))\n",
    "    print('Total number of MIDI files:', len(all_filenames))\n",
    "\n",
    "    # Check if user has provided X number of files\n",
    "    if num_files:\n",
    "        # Select X number of files at random from the dataset for training\n",
    "        all_filenames = random.sample(all_filenames, num_files)\n",
    "        print(f'Selected {num_files} MIDI files for training.')\n",
    "    else:\n",
    "        # Select all files from the dataset for training\n",
    "        print('Using the entire dataset for training.')\n",
    "\n",
    "    # Variable to store a sequence of note pitches\n",
    "    midi_seq_to_load = []\n",
    "\n",
    "    # Iterate through the selected number of MIDI Files\n",
    "    for filename in all_filenames:\n",
    "        # Convert MIDI file into a Tensor of note pitches\n",
    "        sequence = midi_to_sequence(filename)\n",
    "\n",
    "        # # ADDED\n",
    "        print(f\"Loaded sequence length: {len(sequence)}\")\n",
    "\n",
    "        if len(sequence) > 1:\n",
    "            midi_seq_to_load.append(sequence)\n",
    "\n",
    "\n",
    "        # # Append the tensor to the sequence of note pitches\n",
    "        # midi_seq_to_load.append(sequence)\n",
    "\n",
    "    # Return a sequence of note pitches\n",
    "    return midi_seq_to_load"
   ],
   "id": "25f2b4e7cd52db99",
   "outputs": [],
   "execution_count": null
  },
  {
   "metadata": {},
   "cell_type": "markdown",
   "source": [
    "### Fitness Function to Evaluate the Sequence\n",
    "\n",
    "Evaluate the quality of the musical sequence based on its alignment with learned transition probabilities."
   ],
   "id": "b4f9da1f77dae678"
  },
  {
   "metadata": {},
   "cell_type": "code",
   "source": [
    "def fitness_function(sequence, transition_probs):\n",
    "    # Variable to accumulate the total fitness score of the sequence\n",
    "    fitness = 0\n",
    "    \n",
    "    # Iterate over the indices of the sequence\n",
    "    for i in range(len(sequence) - 1):\n",
    "        # Convert sequence elements to integers for dictionary lookup\n",
    "        \n",
    "        # Tuple of two consecutive elements from the sequence\n",
    "        # The elements are converted to integers with .item() method\n",
    "        pair = (sequence[i].item(), sequence[i + 1].item())\n",
    "        \n",
    "        # Transition probability (or score) of the pair\n",
    "        score = transition_probs.get(pair, 0)\n",
    "        \n",
    "        # Value is added to the total fitness score\n",
    "        fitness += score\n",
    "    \n",
    "    # Return the final fitness value\n",
    "    return fitness"
   ],
   "id": "ccded5692ae03b9e",
   "outputs": [],
   "execution_count": null
  },
  {
   "metadata": {},
   "cell_type": "markdown",
   "source": [
    "### Initialize Population from MIDI Sequence\n",
    "\n",
    "Create an initial population for an evolutionary algorithm. Each individual in this population is a sequence of MIDI notes, generated from a given MIDI sequence."
   ],
   "id": "97e0ddb4e876e8dd"
  },
  {
   "metadata": {},
   "cell_type": "code",
   "source": [
    "def initialize_population_from_midi(midi_seq_from_pop, pop_size):\n",
    "    # Variable to store the generated sequences\n",
    "    population = []\n",
    "    # Compute length of the provided MIDI sequence,\n",
    "    # used to determine the range for selecting subsequences\n",
    "    seq_length = len(midi_seq_from_pop)\n",
    "\n",
    "    # Create the required number of \"individuals\" (subsequences)\n",
    "    for _ in range(pop_size):\n",
    "        # Randomly selected start index for the subsequence\n",
    "        start_idx = torch.randint(0, seq_length - 1, (1,), device=device).item()\n",
    "        \n",
    "        # Randomly selected end index for the subsequence\n",
    "        end_idx = torch.randint(start_idx + 1, seq_length, (1,), device=device).item()\n",
    "        \n",
    "        # Extract the subsequence in the specified range\n",
    "        sequence = midi_seq_from_pop[start_idx:end_idx]\n",
    "        \n",
    "        # Append the subsequence to the population sequence\n",
    "        population.append(sequence)\n",
    "\n",
    "    # Return the generated sequence as the initial population\n",
    "    return population"
   ],
   "id": "c470b1c53dfb795a",
   "outputs": [],
   "execution_count": null
  },
  {
   "metadata": {},
   "cell_type": "markdown",
   "source": [
    "### Select Parents Based on Fitness Scores\n",
    "\n",
    "Select the top-performing individuals from the population based on their fitness scores. These individuals are considered as potential parents for the next generation in an evolutionary algorithm."
   ],
   "id": "79fe31883d19b868"
  },
  {
   "metadata": {},
   "cell_type": "code",
   "source": [
    "def select_parents(population, fitness_scores, num_parents):\n",
    "    # Find the indices of the top fitness scores\n",
    "    _, indices = torch.topk(fitness_scores, num_parents)\n",
    "\n",
    "    # Return a sequence with the highest fitness scores\n",
    "    return [population[i] for i in indices]"
   ],
   "id": "764affd3ad764ce4",
   "outputs": [],
   "execution_count": null
  },
  {
   "metadata": {},
   "cell_type": "markdown",
   "source": [
    "### Crossover to Generate Offspring\n",
    "\n",
    "A single-point crossover operation between two parent sequences to generate a child sequence. This way genetic material is exchanged between parents to produce offspring."
   ],
   "id": "2f81b0bab20833f8"
  },
  {
   "metadata": {},
   "cell_type": "code",
   "source": [
    "def crossover(parent1, parent2):\n",
    "    # Find the minimum length between two parents sequences\n",
    "    # Ensures the crossover point is valid for both parents\n",
    "    min_len = min(len(parent1), len(parent2))\n",
    "    \n",
    "    # If parents are too short, return one of them as is\n",
    "    if min_len < 2:\n",
    "        return parent1  \n",
    "\n",
    "    # Select crossover point at random\n",
    "    point = torch.randint(1, min_len - 1, (1,), device=device).item()\n",
    "    \n",
    "    # Create a child sequence by concatenating the 1st part of parent1 and the 2nd part of parent2\n",
    "    child = torch.cat((parent1[:point], parent2[point:]))\n",
    "\n",
    "    # Return the created child sequence\n",
    "    return child"
   ],
   "id": "44317a6259c25e12",
   "outputs": [],
   "execution_count": null
  },
  {
   "metadata": {},
   "cell_type": "markdown",
   "source": [
    "### Create Offspring from Parents\n",
    "\n",
    "Generate a specified number of offspring from a given set of parents using crossover operations. This way new individuals (*offspring*) are created to form the next generation."
   ],
   "id": "73364b9b4d9d614b"
  },
  {
   "metadata": {},
   "cell_type": "code",
   "source": [
    "def create_offspring(parents, num_offspring):\n",
    "    # Variable to store the generated offspring\n",
    "    offspring = []\n",
    "\n",
    "    # Iterate through the user set number of offspring to be created\n",
    "    for _ in range(num_offspring):\n",
    "        # Select two different parents at random\n",
    "        parent1, parent2 = random.sample(parents, 2)\n",
    "        \n",
    "        # Create a child sequence\n",
    "        child = crossover(parent1, parent2)\n",
    "        \n",
    "        # Append the child as an offspring\n",
    "        offspring.append(child)\n",
    "\n",
    "    # Return the generated offspring\n",
    "    return offspring"
   ],
   "id": "fc5eb9f9b967a91d",
   "outputs": [],
   "execution_count": null
  },
  {
   "metadata": {},
   "cell_type": "markdown",
   "source": [
    "### Mutate a Sequence\n",
    "\n",
    "Introduce random changes (*mutations*) to a sequence of notes with a specified probability. This is used to maintain genetic diversity and explore new solutions."
   ],
   "id": "b66fc4d81e2e5f6d"
  },
  {
   "metadata": {},
   "cell_type": "code",
   "source": [
    "def mutate(sequence, mutation_rate=0.1):\n",
    "    # Generate a tensor of random values (range 0-1) shaped as the sequence\n",
    "    # The comparison (< mutation_rate) creates a boolean mask where each element is True\n",
    "    # with probability mutation_rate and False otherwise. It determines which elements of\n",
    "    # the sequence will be mutated\n",
    "    mutation_mask = torch.rand(sequence.size(), device=device) < mutation_rate\n",
    "\n",
    "    # Generate a tensor of random values shaped as the sequence\n",
    "    # These notes are potential replacements for the mutated elements\n",
    "    random_notes = torch.randint(note_range[0], note_range[1],\n",
    "                                 sequence.size(), device=device)\n",
    "\n",
    "    # Update the sequence elements, using the mutation mask (For indices where is True)\n",
    "    sequence[mutation_mask] = random_notes[mutation_mask]\n",
    "\n",
    "    # Return the mutated sequence\n",
    "    return sequence"
   ],
   "id": "f0b2bd79834c47a5",
   "outputs": [],
   "execution_count": null
  },
  {
   "metadata": {},
   "cell_type": "markdown",
   "source": [
    "### Mutate a Population of Sequence\n",
    "\n",
    "\n",
    "Apply mutation to each sequence in the population."
   ],
   "id": "1089e22019d2bc70"
  },
  {
   "metadata": {},
   "cell_type": "code",
   "source": [
    "def mutate_population(population, mutation_rate=0.1):\n",
    "    # Apply mutation to each sequence in the population sequences\n",
    "    return [mutate(seq, mutation_rate) for seq in population]"
   ],
   "id": "af7a984b7e2ddb82",
   "outputs": [],
   "execution_count": null
  },
  {
   "metadata": {},
   "cell_type": "markdown",
   "source": [
    "### Calculate Transition Probabilities Between Notes\n",
    "\n",
    "Compute the probabilities of transitions between consecutive notes in a MIDI sequence."
   ],
   "id": "c833f0a272e4d42f"
  },
  {
   "metadata": {},
   "cell_type": "code",
   "source": [
    "def calculate_transition_probabilities(midi_seq_calc):\n",
    "    # List of tuples, where each tuple is a pair of consecutive notes\n",
    "    transitions = [\n",
    "        (midi_seq_calc[i].item(), midi_seq_calc[i + 1].item()) for i in range(len(midi_seq_calc) - 1)\n",
    "    ]\n",
    "\n",
    "    # Counts the occurrences of each transition pair\n",
    "    # Creates a dictionary where transition pairs are keys & counts - their values\n",
    "    transition_counts = Counter(transitions)\n",
    "\n",
    "    # Calculate the total number of transitions\n",
    "    total_transitions = sum(transition_counts.values())\n",
    "\n",
    "    # Calculate the probability of each transition\n",
    "    transition_probs = {pair: transition / total_transitions for pair, transition in transition_counts.items()}\n",
    "\n",
    "    # Return the transition probabilities\n",
    "    return transition_probs\n"
   ],
   "id": "ac1cd18e6a7929c5",
   "outputs": [],
   "execution_count": null
  },
  {
   "metadata": {},
   "cell_type": "markdown",
   "source": [
    "### Evolutionary algorithm Using MIDI Sequence\n",
    "\n",
    "Implement the evolutionary algorithm to optimize a sequence of MIDI notes. The algorithm iterates over X number of generations, evolving a population of sequences to maximize the fitness score."
   ],
   "id": "e92622404ba55ce0"
  },
  {
   "metadata": {},
   "cell_type": "code",
   "source": [
    "def evolutionary_algorithm_midi(num_generations, midi_seq_for_ea, pop_size, num_parents, mutation_rate):\n",
    "    # Initialise the population sequence from the provided MIDI sequence\n",
    "    population = initialize_population_from_midi(midi_seq_for_ea, pop_size)\n",
    "\n",
    "    # Calculate the transition probabilities between the notes in the MIDI sequence\n",
    "    transition_probs = calculate_transition_probabilities(midi_seq_for_ea)\n",
    "\n",
    "    # Iterate over the specified number of generations\n",
    "    for generation in range(1, num_generations + 1):\n",
    "        # Calculate the fitness score for each sequence in the population\n",
    "        fitness_scores = torch.tensor([fitness_function(seq, transition_probs) for seq in population], device=device)\n",
    "\n",
    "        # Select the parents for the next generations (top-performing sequence)\n",
    "        parents = select_parents(population, fitness_scores, num_parents)\n",
    "        # Generate the new offspring\n",
    "        offspring = create_offspring(parents, pop_size - num_parents)\n",
    "        # Mutate the newly generated offspring\n",
    "        offspring = mutate_population(offspring, mutation_rate)\n",
    "\n",
    "        # Combine the parents and their offspring to form the new population for the next generation\n",
    "        population = parents + offspring\n",
    "\n",
    "        # Find the best fitness score in the current generation\n",
    "        best_fitness = fitness_scores.max().item()\n",
    "\n",
    "        # Print a status message every 5th generation and for the last generation\n",
    "        if generation % 5 == 0 or generation == num_generations:\n",
    "            print(f\"Generation {generation}, Best Fitness: {best_fitness}\")\n",
    "\n",
    "    # Determine the sequence with the best fitness score\n",
    "    best_seq = population[torch.argmax(fitness_scores)]\n",
    "\n",
    "    # Return the sequence with the best fitness score\n",
    "    return best_seq"
   ],
   "id": "b1aae185fa982b98",
   "outputs": [],
   "execution_count": null
  },
  {
   "metadata": {},
   "cell_type": "markdown",
   "source": "### Convert Sequence to .wav File",
   "id": "28464f59eb4dab76"
  },
  {
   "metadata": {},
   "cell_type": "code",
   "source": [
    "def sequence_to_wav(sequence, output_file, sample_rate=44100):\n",
    "    # Create an empty prettyMIDI object\n",
    "    midi_data = pretty_midi.PrettyMIDI()\n",
    "    # Crete new Instrument object, program number 0 (Acoustic Grand Piano)\n",
    "    instrument = pretty_midi.Instrument(program=0)\n",
    "    \n",
    "    # Ensure the sequence has notes\n",
    "    if len(sequence) == 0:\n",
    "        print(\"The sequence is empty. Skipping MIDI file creation.\")\n",
    "        return\n",
    "\n",
    "    # Iterate over the note sequence\n",
    "    for i, note in enumerate(sequence):\n",
    "        # Turn the note to int from tensor\n",
    "        note = int(note.item())\n",
    "        # Set start time for the note\n",
    "        start_time = i * 0.5\n",
    "        # Set end time for the note\n",
    "        end_time = (i + 1) * 0.5\n",
    "\n",
    "        # Create a Note object with specified volume (velocity), pitch, start & end time\n",
    "        midi_note = pretty_midi.Note(\n",
    "            velocity=100, pitch=note, start=start_time, end=end_time\n",
    "        )\n",
    "\n",
    "        # Append the Note object to the instrument\n",
    "        instrument.notes.append(midi_note)\n",
    "    \n",
    "    # Add the instrument to the prettyMIDI object and create the MIDI file\n",
    "    midi_data.instruments.append(instrument)\n",
    "    \n",
    "    # Synthesize the MIDI data directly to audio (wav)\n",
    "    audio_data = midi_data.fluidsynth(fs=sample_rate)\n",
    "    \n",
    "    # Normalize audio to 16-bit PCM range\n",
    "    audio_data = np.int16(audio_data / np.max(np.abs(audio_data)) * 32767)\n",
    "    \n",
    "    # Write the audio data to a .wav file\n",
    "    write(output_file, sample_rate, audio_data)\n",
    "\n",
    "    print(f\"WAV file created: {output_file}\")"
   ],
   "id": "b609f3c5cd8e73dc",
   "outputs": [],
   "execution_count": null
  },
  {
   "metadata": {},
   "cell_type": "markdown",
   "source": "## Set Parameters",
   "id": "169d2ddb4fb5de32"
  },
  {
   "metadata": {},
   "cell_type": "code",
   "source": [
    "# Number of MIDI files to load\n",
    "# Set this to None to use the entire dataset\n",
    "num_files_to_load = 2\n",
    "\n",
    "# Load the specified number of MIDI files\n",
    "# List, containing tensors, each representing a note sequence from the loaded MIDI files\n",
    "midi_sequences = load_midi_files(num_files=num_files_to_load)\n",
    "\n",
    "# The Range of MIDI notes to be used for a mutation\n",
    "# Note interval is C3 to C5\n",
    "note_range = (48, 72)"
   ],
   "id": "8e9c451132d09c5d",
   "outputs": [],
   "execution_count": null
  },
  {
   "metadata": {},
   "cell_type": "markdown",
   "source": "## Run Evolutionary Algorithm",
   "id": "227c72e233957567"
  },
  {
   "metadata": {},
   "cell_type": "code",
   "source": [
    "# Counter of processed sequences\n",
    "current_sequence = 1\n",
    "\n",
    "output_wav_file = \"\"\n",
    "\n",
    "# Iterate over the loaded MIDI sequences\n",
    "for midi_sequence in midi_sequences:\n",
    "    # Current sequence\n",
    "    print(f\"Sequence {current_sequence}: \\n\")\n",
    "\n",
    "    # Find the best sequence, based on the current MIDI sequence\n",
    "    best_sequence = evolutionary_algorithm_midi(\n",
    "        num_generations=20,\n",
    "        midi_seq_for_ea=midi_sequence,\n",
    "        pop_size=50,\n",
    "        num_parents=10,\n",
    "        mutation_rate=0.5\n",
    "    )\n",
    "\n",
    "    # Check if there created best_sequence\n",
    "    if best_sequence is not None:\n",
    "        print(f\"Best sequence length: {len(best_sequence)} notes.\")\n",
    "\n",
    "        # Filename for the generated .wav file based on the current sequence\n",
    "        output_wav_file = f\"generated_music_{current_sequence}.wav\"\n",
    "\n",
    "        # Convert the best sequence to .wav\n",
    "        sequence_to_wav(best_sequence, output_wav_file)\n",
    "    else:\n",
    "        print(\"No best sequence generated.\")\n",
    "\n",
    "    # Increment the sequence counter for the next iteration\n",
    "    current_sequence += 1"
   ],
   "id": "ee42ebae144dc158",
   "outputs": [],
   "execution_count": null
  },
  {
   "metadata": {},
   "cell_type": "markdown",
   "source": "## Play the Generated .wav File in the Notebook",
   "id": "96b4977f412571d4"
  },
  {
   "metadata": {},
   "cell_type": "code",
   "source": [
    "# Play the generated audio file\n",
    "wav_file = \"generated_music_1.wav\"\n",
    "\n",
    "audio_path = wav_file\n",
    "Audio(audio_path)"
   ],
   "id": "caf6583603b7b625",
   "outputs": [],
   "execution_count": null
  }
 ],
 "metadata": {
  "kernelspec": {
   "display_name": "Python 3",
   "language": "python",
   "name": "python3"
  },
  "language_info": {
   "codemirror_mode": {
    "name": "ipython",
    "version": 2
   },
   "file_extension": ".py",
   "mimetype": "text/x-python",
   "name": "python",
   "nbconvert_exporter": "python",
   "pygments_lexer": "ipython2",
   "version": "2.7.6"
  }
 },
 "nbformat": 4,
 "nbformat_minor": 5
}
