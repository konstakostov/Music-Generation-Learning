{
 "cells": [
  {
   "metadata": {},
   "cell_type": "markdown",
   "source": "# Genetic Algorithm Theory",
   "id": "eaa256ceb680b99c"
  },
  {
   "metadata": {},
   "cell_type": "markdown",
   "source": [
    "## Connection with Biology\n",
    "\n",
    "\n",
    "Most Evolutionary Algorithms (EA) are based on the [Neo-Darwinian framework](https://en.wikipedia.org/wiki/Neo-Darwinism).\n",
    "According to Darwin's theory of natural selection, the evolutionary changes occur because of existing variations in the inheritable traits of every generation. The individuals that survive have well-adapted combinations of inheritable characteristics, passing them onto the next generation. The individuals fittest survive to pass on those traits that helped to make them fit [1].\n",
    "\n",
    "Modern genetics discovered those variations, which are caused by genetic processes, like mutation (sometimes caused by mistakes in DNA replication) and recombination of genetic material from different sources (two parents in sexual reproduction) [1].\n",
    "\n",
    "Based on that information, Neo-Darwinism postulates: <br>\n",
    "\"*Natural selection acts on the genetic variations within populations - genes being the units underlying inheritable characteristics.*\" [1]."
   ],
   "id": "b028782ac7433898"
  },
  {
   "metadata": {},
   "cell_type": "markdown",
   "source": [
    "## Genetic Algorithm\n",
    "\n",
    "Genetic Algorithms [GAs] (also known as Genetic Programming) are a subset of Evolutionary Algorithms [EAs], both of which are, inspired by evolution, Optimization techniques [2].\n",
    "\n",
    "GAs can be thought of as a family of general purpose search methods, capable of solving a broad range of problems. Like EAs, GAs test each individual from the population and only the fittest survive to reproduce for the next generation. GAs create new generations until at least one individual is found to solve the problem adequately [2].\n",
    "\n",
    "The main mechanism of the GA is the repeated cycling through four operations applied to the entire population:\n",
    "- Evaluate; \n",
    "- Select;\n",
    "- Crossover;\n",
    "- Mutate [2].\n",
    "\n",
    "Each iteration of the GA is called a *generation*. Each member (problem solver/chromosome) of the population is used to solve a problem. It's performance [the member's] is evaluated, and it's given a ***fitness rating***. The population is given an overall fitness rating, based on it's members performance [2]. \n",
    "\n",
    "From one generation to the next, new members are produced to join the population. The reproduction takes place when selected members from one generation's population are recombined with one another to form members for the next generation. The new members are called *offspring*. The member selection for reproduction is based on their fitness rating. [2]. \n",
    "\n",
    "The number of offspring produced for each new generation depends on how members are introduced to maintain a fixed population size. In a *pure* replacement strategy, the whole population is replaced by a new one. In an *elitist* strategy, a proportion of the population survives to the next generation [2]."
   ],
   "id": "d2334bf55166f5b4"
  },
  {
   "metadata": {},
   "cell_type": "markdown",
   "source": [
    "###  Key Concepts\n",
    "\n",
    "- ***Population:*** Collection of individuals/members/chromosomes/problem solvers, that can provide a potential solution to the problem at hand;\n",
    "- ***Fitness Rating:*** \n",
    "    - Indicate how well the individual solves the problem at hand; \n",
    "    - Indicate how close the individual/population is to the required solution.  \n",
    "- ***Selection:*** Process to select the best-performing individuals to reproduce;\n",
    "- ***Genetic Operators:*** Processes to introduce genetic diversity in the population. Such operators are *Crossover* and *Mutation*;\n",
    "- ***Replacement:*** Process to select individuals from the current population & newly formed offspring to form the next generation.\n"
   ],
   "id": "428906bb499d672d"
  },
  {
   "metadata": {},
   "cell_type": "markdown",
   "source": [
    "## Genetic Operators\n",
    "\n",
    "### Crossover\n",
    "\n",
    "Exchanging portions of a pair of chromosomes (member of the population) at a randomly chosen point called **crossover point**. In some implementations, there may be more than one crossover point [2].\n",
    "\n",
    "Offspring produced by crossover **cannot** contain information that is not already in the population [2].\n",
    "\n",
    "\n",
    "#### Example<br>\n",
    "$X = 1001 01011$<br>\n",
    "$Y = 1110 10010$<br>\n",
    "\n",
    "The crossover point is after four positions:<br>\n",
    "\n",
    "$O_1 = 1001 10010$<br>\n",
    "$O_2 = 1110 01011$<br> [2]\n",
    "\n",
    "### Mutation\n",
    "\n",
    "Generating an offspring by randomly changing the values of genes (data in the chromosome) at one or more gene positions of a selected chromosome [2].\n",
    "\n",
    "\n",
    "#### Example<br>\n",
    "$Z = 1001 01011$<br>\n",
    "\n",
    "Mutated positions are 2, 4, 9:<br>\n",
    "\n",
    "$O_1 = 1100 01010$<br> [2]"
   ],
   "id": "b936949b97b60e1f"
  },
  {
   "metadata": {},
   "cell_type": "markdown",
   "source": [
    "## Sources\n",
    "\n",
    "1. Miranda, E. R., Biles, J. A. (Ed) (2007) *Evolutionary Computer Music.* Springer. ISBN: 9781846285998.\n",
    "2. Sammut C., Webb G. (Ed) (2011) *Encyclopedia of machine learning.* Springer. ISBN: 978-0-387-30768-8.\n",
    "\n"
   ],
   "id": "3596fa03e09a6845"
  }
 ],
 "metadata": {
  "kernelspec": {
   "display_name": "Python 3",
   "language": "python",
   "name": "python3"
  },
  "language_info": {
   "codemirror_mode": {
    "name": "ipython",
    "version": 2
   },
   "file_extension": ".py",
   "mimetype": "text/x-python",
   "name": "python",
   "nbconvert_exporter": "python",
   "pygments_lexer": "ipython2",
   "version": "2.7.6"
  }
 },
 "nbformat": 4,
 "nbformat_minor": 5
}
