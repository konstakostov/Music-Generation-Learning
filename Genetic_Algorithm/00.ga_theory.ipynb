{
 "cells": [
  {
   "metadata": {},
   "cell_type": "markdown",
   "source": "# Genetic Algorithm Theory",
   "id": "eaa256ceb680b99c"
  },
  {
   "metadata": {},
   "cell_type": "markdown",
   "source": [
    "## Connection with Biology\n",
    "\n",
    "\n",
    "Most Evolutionary Algorithms (EA) are based on the [Neo-Darwinian framework](https://en.wikipedia.org/wiki/Neo-Darwinism).\n",
    "According to Darwin's theory of natural selection, the evolutionary changes occur because of existing variations in the inheritable traits of every generation. The individuals that survive have well-adapted combinations of inheritable characteristics, passing them onto the next generation. The individuals fittest survive to pass on those traits that helped to make them fit [1].\n",
    "\n",
    "Modern genetics discovered those variations, which are caused by genetic processes, like mutation (sometimes caused by mistakes in DNA replication) and recombination of genetic material from different sources (two parents in sexual reproduction) [1].\n",
    "\n",
    "Based on that information, Neo-Darwinism postulates: <br>\n",
    "\"*Natural selection acts on the genetic variations within populations - genes being the units underlying inheritable characteristics.*\" [1]."
   ],
   "id": "b028782ac7433898"
  },
  {
   "metadata": {},
   "cell_type": "markdown",
   "source": [
    "## Genetic Algorithm and Evolutionary Algorithms\n",
    "\n",
    "\n"
   ],
   "id": "d2334bf55166f5b4"
  },
  {
   "metadata": {},
   "cell_type": "markdown",
   "source": [
    "## Sources\n",
    "\n",
    "1. Miranda, E. R., Biles, J. A. (Ed) (2007) *Evolutionary Computer Music.* Springer. ISBN: 9781846285998.\n",
    "\n",
    "\n"
   ],
   "id": "3596fa03e09a6845"
  }
 ],
 "metadata": {
  "kernelspec": {
   "display_name": "Python 3",
   "language": "python",
   "name": "python3"
  },
  "language_info": {
   "codemirror_mode": {
    "name": "ipython",
    "version": 2
   },
   "file_extension": ".py",
   "mimetype": "text/x-python",
   "name": "python",
   "nbconvert_exporter": "python",
   "pygments_lexer": "ipython2",
   "version": "2.7.6"
  }
 },
 "nbformat": 4,
 "nbformat_minor": 5
}
