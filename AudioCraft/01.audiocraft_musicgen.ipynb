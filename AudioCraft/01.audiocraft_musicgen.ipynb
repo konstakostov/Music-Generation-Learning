{
 "cells": [
  {
   "metadata": {},
   "cell_type": "markdown",
   "source": "# AudioCraft, MusicGen Model",
   "id": "89405ee083f33e0e"
  },
  {
   "metadata": {},
   "cell_type": "markdown",
   "source": "## Import Libraries",
   "id": "1617d9e2048157b3"
  },
  {
   "metadata": {},
   "cell_type": "code",
   "source": [
    "from transformers import AutoProcessor, MusicgenForConditionalGeneration\n",
    "from IPython.display import Audio\n",
    "import soundfile as sf\n",
    "import numpy as np"
   ],
   "id": "2644c53a4ede7a27",
   "outputs": [],
   "execution_count": null
  },
  {
   "metadata": {},
   "cell_type": "markdown",
   "source": "## Load Pre-Trained Model & Processor",
   "id": "224df4eaae789789"
  },
  {
   "metadata": {
    "collapsed": true
   },
   "cell_type": "code",
   "source": [
    "processor = AutoProcessor.from_pretrained(\"facebook/musicgen-small\")\n",
    "model = MusicgenForConditionalGeneration.from_pretrained(\"facebook/musicgen-small\", attn_implementation=\"eager\",)"
   ],
   "id": "8559959298560a01",
   "outputs": [],
   "execution_count": null
  },
  {
   "metadata": {},
   "cell_type": "markdown",
   "source": "## Prepare Input Text for Generation",
   "id": "cd929fc1d6209977"
  },
  {
   "metadata": {},
   "cell_type": "code",
   "source": [
    "inputs = processor(\n",
    "    text=[\"Relaxing beach music with ukulele and percussion's.\"],\n",
    "    padding=True,\n",
    "    return_tensors=\"pt\",\n",
    ")"
   ],
   "id": "a2616c2b953becaa",
   "outputs": [],
   "execution_count": null
  },
  {
   "metadata": {},
   "cell_type": "markdown",
   "source": [
    "## Generate the Music\n",
    "\n",
    "256 tokens are ~5 seconds of generated audio."
   ],
   "id": "6c88c2ab268d200e"
  },
  {
   "metadata": {},
   "cell_type": "code",
   "source": "audio_values = model.generate(**inputs, max_new_tokens=1536)",
   "id": "c7990488f2eb614a",
   "outputs": [],
   "execution_count": null
  },
  {
   "metadata": {},
   "cell_type": "markdown",
   "source": "## Process and Convert Audio Values",
   "id": "c511612a8923c4e4"
  },
  {
   "metadata": {},
   "cell_type": "code",
   "source": [
    "# Get the sampling rate from the model's configuration\n",
    "sampling_rate = model.config.audio_encoder.sampling_rate\n",
    "\n",
    "# Convert audio values to numpy array\n",
    "audio_values_np = audio_values[0].numpy()\n",
    "\n",
    "# Ensure data is in the correct format and range & clip to [-1.0, 1.0] range if necessary\n",
    "audio_values_np = np.clip(audio_values_np, -1.0, 1.0)\n",
    "\n",
    "# Convert data to float32 (if necessary)\n",
    "audio_values_np = audio_values_np.astype(np.float32)\n",
    "\n",
    "# Check if audio_values_np is mono (1D) or stereo (2D)\n",
    "# If Stereo (2D), the second dimension is channels\n",
    "if audio_values_np.ndim == 1:\n",
    "    audio_values_np = audio_values_np[None, :]  # Add channel dimension if mono"
   ],
   "id": "86601e6f06ecea0a",
   "outputs": [],
   "execution_count": null
  },
  {
   "metadata": {},
   "cell_type": "markdown",
   "source": "## Save Generated Audio as .wav File",
   "id": "9ecd71133d020430"
  },
  {
   "metadata": {},
   "cell_type": "code",
   "source": [
    "wav_name = \"generated_ukulele.wav\"\n",
    "sf.write(wav_name, audio_values_np.T, sampling_rate)  # Transpose if necessary"
   ],
   "id": "50454611d4c9b44e",
   "outputs": [],
   "execution_count": null
  },
  {
   "metadata": {},
   "cell_type": "markdown",
   "source": "## Play the Generated Audio",
   "id": "fdc2f2874e7e3f23"
  },
  {
   "metadata": {},
   "cell_type": "code",
   "source": "Audio(audio_values[0].numpy(), rate=sampling_rate)",
   "id": "dbabf1adbe0e33a4",
   "outputs": [],
   "execution_count": null
  }
 ],
 "metadata": {
  "kernelspec": {
   "display_name": "Python 3",
   "language": "python",
   "name": "python3"
  },
  "language_info": {
   "codemirror_mode": {
    "name": "ipython",
    "version": 2
   },
   "file_extension": ".py",
   "mimetype": "text/x-python",
   "name": "python",
   "nbconvert_exporter": "python",
   "pygments_lexer": "ipython2",
   "version": "2.7.6"
  }
 },
 "nbformat": 4,
 "nbformat_minor": 5
}
