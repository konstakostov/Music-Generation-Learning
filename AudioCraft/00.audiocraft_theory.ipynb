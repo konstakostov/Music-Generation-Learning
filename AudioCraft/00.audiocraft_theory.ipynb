{
 "cells": [
  {
   "metadata": {},
   "cell_type": "markdown",
   "source": "# AudioCraft, MusicGen Model Theory",
   "id": "f18c5b2f6b5a23fe"
  },
  {
   "metadata": {},
   "cell_type": "markdown",
   "source": [
    "## Abstract\n",
    "\n",
    "**AudioCraft** is a free and open-source, high-quality audio and music generation framework, developed by [Meta](https://ai.meta.com). It concludes of three main tools: \n",
    "* MusicGen: Generate music from text prompts;\n",
    "* AudioGen: Generate environmental sounds or sound effects from text prompts;\n",
    "* EnCodec: Compresses and reconstructs audio with high fidelity [1].\n",
    "\n",
    "**MusicGen** is a single-stage transformer LM (Language Model), operating with tokens (several streams of compressed discrete music representation). It is used to generate high-quality music (mono & stereo sound), with interpreting descriptive text-prompt [2]."
   ],
   "id": "1ccdec11d90db430"
  },
  {
   "metadata": {},
   "cell_type": "markdown",
   "source": [
    "## Introduction\n",
    "\n"
   ],
   "id": "de5d07ef373661b3"
  },
  {
   "metadata": {},
   "cell_type": "markdown",
   "source": [
    "## Sources\n",
    "\n",
    "1. [AudioCraft, Meta Blog](https://ai.meta.com/blog/audiocraft-musicgen-audiogen-encodec-generative-ai-audio/)\n",
    "2. [Copet, J., Kreuk, F. ,Gat, I., Remez, T., Kant, D., Synnaeve, G., Adi, Y., Défossez, A. (2024)  *Simple and Controllable Music Generation.*](https://doi.org/10.48550/arXiv.2306.05284)"
   ],
   "id": "ae1c58257283d573"
  }
 ],
 "metadata": {
  "kernelspec": {
   "display_name": "Python 3",
   "language": "python",
   "name": "python3"
  },
  "language_info": {
   "codemirror_mode": {
    "name": "ipython",
    "version": 2
   },
   "file_extension": ".py",
   "mimetype": "text/x-python",
   "name": "python",
   "nbconvert_exporter": "python",
   "pygments_lexer": "ipython2",
   "version": "2.7.6"
  }
 },
 "nbformat": 4,
 "nbformat_minor": 5
}
