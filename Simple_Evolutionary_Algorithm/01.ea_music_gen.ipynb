{
 "cells": [
  {
   "metadata": {},
   "cell_type": "markdown",
   "source": "# Simple Evolutionary Algorithm",
   "id": "76e21c71a3bac64d"
  },
  {
   "metadata": {},
   "cell_type": "markdown",
   "source": "## Import Libraries",
   "id": "2d06d2a2edcc4d18"
  },
  {
   "cell_type": "code",
   "id": "initial_id",
   "metadata": {
    "collapsed": true,
    "ExecuteTime": {
     "end_time": "2024-08-13T04:31:03.717280Z",
     "start_time": "2024-08-13T04:31:01.775718Z"
    }
   },
   "source": [
    "import torch\n",
    "import pretty_midi\n",
    "from collections import Counter\n",
    "from IPython.display import Audio, display"
   ],
   "outputs": [],
   "execution_count": 1
  },
  {
   "metadata": {},
   "cell_type": "markdown",
   "source": "## Helper Functions",
   "id": "e70723774907e7a4"
  },
  {
   "metadata": {},
   "cell_type": "markdown",
   "source": "### Load MIDI to File & Convert to Sequence",
   "id": "87527d4bdac4ffd0"
  },
  {
   "metadata": {
    "ExecuteTime": {
     "end_time": "2024-08-13T04:31:03.737582Z",
     "start_time": "2024-08-13T04:31:03.730679Z"
    }
   },
   "cell_type": "code",
   "source": [
    "def midi_to_sequence(midi_file):\n",
    "    \"\"\"Load a MIDI file and convert it into a sequence of note numbers.\"\"\"\n",
    "    midi_data = pretty_midi.PrettyMIDI(midi_file)\n",
    "    notes = []\n",
    "    for instrument in midi_data.instruments:\n",
    "        for note in instrument.notes:\n",
    "            notes.append(note.pitch)\n",
    "    \n",
    "    return torch.tensor(notes)"
   ],
   "id": "3d8261aa7e764a51",
   "outputs": [],
   "execution_count": 2
  },
  {
   "metadata": {},
   "cell_type": "markdown",
   "source": "### Calculate Transition Probabilities",
   "id": "3c9b6b6e4dfce75e"
  },
  {
   "metadata": {
    "ExecuteTime": {
     "end_time": "2024-08-13T04:31:03.809382Z",
     "start_time": "2024-08-13T04:31:03.804737Z"
    }
   },
   "cell_type": "code",
   "source": [
    "def calculate_transition_probabilities(midi_sequence):\n",
    "    \"\"\"Calculate transition probabilities from a MIDI sequence.\"\"\"\n",
    "    transitions = [(midi_sequence[i], midi_sequence[i + 1]) for i in range(len(midi_sequence) - 1)]\n",
    "    transition_counts = Counter(transitions)\n",
    "    total_transitions = sum(transition_counts.values())\n",
    "    transition_probs = {k: v / total_transitions for k, v in transition_counts.items()}\n",
    "    \n",
    "    return transition_probs"
   ],
   "id": "c360664330c3a1e8",
   "outputs": [],
   "execution_count": 3
  },
  {
   "metadata": {},
   "cell_type": "markdown",
   "source": "### Evaluate Fitness Based on Transition Probabilities",
   "id": "5d0a356d17969d1f"
  },
  {
   "metadata": {
    "ExecuteTime": {
     "end_time": "2024-08-13T04:31:03.856151Z",
     "start_time": "2024-08-13T04:31:03.851205Z"
    }
   },
   "cell_type": "code",
   "source": [
    "def fitness_function(sequence, transition_probs):\n",
    "    \"\"\"Evaluate the fitness of a sequence based on transition probabilities.\"\"\"\n",
    "    fitness = 0\n",
    "    \n",
    "    for i in range(len(sequence) - 1):\n",
    "        pair = (sequence[i].item(), sequence[i + 1].item())\n",
    "        fitness += transition_probs.get(pair, 0)  # Reward common transitions\n",
    "    \n",
    "    return fitness"
   ],
   "id": "c041255c1a404df",
   "outputs": [],
   "execution_count": 4
  },
  {
   "metadata": {},
   "cell_type": "markdown",
   "source": "## Define Evolutionary Algorithm Functions",
   "id": "4b72fa9ef6858b7c"
  },
  {
   "metadata": {},
   "cell_type": "markdown",
   "source": "### Initialize Population from MIDI Data",
   "id": "740ab3375d1c34c7"
  },
  {
   "metadata": {
    "ExecuteTime": {
     "end_time": "2024-08-13T04:31:03.931407Z",
     "start_time": "2024-08-13T04:31:03.922947Z"
    }
   },
   "cell_type": "code",
   "source": [
    "def initialize_population_from_midi(midi_sequence, pop_size, seq_length):\n",
    "    \"\"\"Initialize a population of sequences from MIDI data.\"\"\"\n",
    "    population = []\n",
    "    \n",
    "    max_start = len(midi_sequence) - seq_length\n",
    "    \n",
    "    for _ in range(pop_size):\n",
    "        start_idx = torch.randint(0, max_start, (1,)).item()\n",
    "        sequence = midi_sequence[start_idx:start_idx + seq_length]\n",
    "        population.append(sequence)\n",
    "    \n",
    "    return torch.stack(population)"
   ],
   "id": "4fbae6497fdb4338",
   "outputs": [],
   "execution_count": 5
  },
  {
   "metadata": {},
   "cell_type": "markdown",
   "source": "### Select Parents Based on Fitness Scores",
   "id": "a3febf864883d9dc"
  },
  {
   "metadata": {
    "ExecuteTime": {
     "end_time": "2024-08-13T04:31:03.982505Z",
     "start_time": "2024-08-13T04:31:03.977762Z"
    }
   },
   "cell_type": "code",
   "source": [
    "def select_parents(population, fitness_scores, num_parents):\n",
    "    \"\"\"Select the best sequences as parents.\"\"\"\n",
    "    _, indices = torch.topk(fitness_scores, num_parents)\n",
    "    \n",
    "    return population[indices]"
   ],
   "id": "4c3ead05863b834a",
   "outputs": [],
   "execution_count": 6
  },
  {
   "metadata": {},
   "cell_type": "markdown",
   "source": "### Crossover to Create Offspring",
   "id": "d5196c2ad7c9d747"
  },
  {
   "metadata": {
    "ExecuteTime": {
     "end_time": "2024-08-13T04:31:04.037042Z",
     "start_time": "2024-08-13T04:31:04.031140Z"
    }
   },
   "cell_type": "code",
   "source": [
    "def crossover(parent1, parent2):\n",
    "    \"\"\"Combine two parents to create a child sequence.\"\"\"\n",
    "    point = torch.randint(1, len(parent1) - 1, (1,)).item()  # Random crossover point\n",
    "    child = torch.cat((parent1[:point], parent2[point:]))\n",
    "    \n",
    "    return child\n",
    "\n",
    "def create_offspring(parents, num_offspring):\n",
    "    \"\"\"Create offspring from selected parents.\"\"\"\n",
    "    offspring = []\n",
    "    \n",
    "    for _ in range(num_offspring):\n",
    "        parent1, parent2 = parents[torch.randint(0, len(parents), (2,))]\n",
    "        child = crossover(parent1, parent2)\n",
    "        offspring.append(child)\n",
    "    \n",
    "    return torch.stack(offspring)"
   ],
   "id": "aa95368f31991c12",
   "outputs": [],
   "execution_count": 7
  },
  {
   "metadata": {},
   "cell_type": "markdown",
   "source": "### Mutation",
   "id": "2a675f44ceba202"
  },
  {
   "metadata": {
    "ExecuteTime": {
     "end_time": "2024-08-13T04:31:04.095359Z",
     "start_time": "2024-08-13T04:31:04.088907Z"
    }
   },
   "cell_type": "code",
   "source": [
    "def mutate(sequence, mutation_rate=0.1):\n",
    "    \"\"\"Introduce random mutations into a sequence.\"\"\"\n",
    "    mutation_mask = torch.rand(sequence.size()) < mutation_rate\n",
    "    random_notes = torch.randint(note_range[0], note_range[1], sequence.size())\n",
    "    \n",
    "    sequence[mutation_mask] = random_notes[mutation_mask]\n",
    "    \n",
    "    return sequence\n",
    "\n",
    "def mutate_population(population, mutation_rate=0.1):\n",
    "    \"\"\"Mutate the entire population.\"\"\"\n",
    "    for i in range(len(population)):\n",
    "        population[i] = mutate(population[i], mutation_rate)\n",
    "    \n",
    "    return population"
   ],
   "id": "1172c2f71a9ab4f7",
   "outputs": [],
   "execution_count": 8
  },
  {
   "metadata": {},
   "cell_type": "markdown",
   "source": "## Run the Evolutionary Algorithm",
   "id": "45736563824119e"
  },
  {
   "metadata": {
    "ExecuteTime": {
     "end_time": "2024-08-13T04:31:04.580074Z",
     "start_time": "2024-08-13T04:31:04.140526Z"
    }
   },
   "cell_type": "code",
   "source": [
    "# Main function to run the evolutionary algorithm\n",
    "def evolutionary_algorithm_midi(num_generations, midi_sequence, seq_length, \n",
    "                                pop_size, num_parents, mutation_rate):\n",
    "    \"\"\"Run the evolutionary algorithm on MIDI data.\"\"\"\n",
    "    population = initialize_population_from_midi(midi_sequence, pop_size, seq_length)\n",
    "    transition_probs = calculate_transition_probabilities(midi_sequence)\n",
    "    \n",
    "    for generation in range(num_generations):\n",
    "        fitness_scores = torch.tensor([fitness_function(seq, transition_probs) for seq in population])\n",
    "        parents = select_parents(population, fitness_scores, num_parents)\n",
    "        offspring = create_offspring(parents, pop_size - num_parents)\n",
    "        offspring = mutate_population(offspring, mutation_rate)\n",
    "        \n",
    "        # The new population is a combination of parents and offspring\n",
    "        population = torch.cat((parents, offspring))\n",
    "        \n",
    "        best_fitness = fitness_scores.max().item()\n",
    "        print(f\"Generation {generation + 1}, Best Fitness: {best_fitness}\")\n",
    "    \n",
    "    best_sequence = population[torch.argmax(fitness_scores)]\n",
    "    \n",
    "    return best_sequence\n",
    "\n",
    "# Parameters\n",
    "midi_file = 'midi_files/Moonlight-Sonata.mid'\n",
    "midi_sequence = midi_to_sequence(midi_file)\n",
    "note_range = (60, 72)  # Example range for MIDI notes\n",
    "\n",
    "# Run the algorithm\n",
    "best_sequence = evolutionary_algorithm_midi(num_generations=20, midi_sequence=midi_sequence, \n",
    "                                            seq_length=8, pop_size=10, num_parents=4, \n",
    "                                            mutation_rate=0.1)\n",
    "print(f\"Best sequence: {best_sequence}\")"
   ],
   "id": "b34a361b078d9877",
   "outputs": [
    {
     "name": "stdout",
     "output_type": "stream",
     "text": [
      "Generation 1, Best Fitness: 0\n",
      "Generation 2, Best Fitness: 0\n",
      "Generation 3, Best Fitness: 0\n",
      "Generation 4, Best Fitness: 0\n",
      "Generation 5, Best Fitness: 0\n",
      "Generation 6, Best Fitness: 0\n",
      "Generation 7, Best Fitness: 0\n",
      "Generation 8, Best Fitness: 0\n",
      "Generation 9, Best Fitness: 0\n",
      "Generation 10, Best Fitness: 0\n",
      "Generation 11, Best Fitness: 0\n",
      "Generation 12, Best Fitness: 0\n",
      "Generation 13, Best Fitness: 0\n",
      "Generation 14, Best Fitness: 0\n",
      "Generation 15, Best Fitness: 0\n",
      "Generation 16, Best Fitness: 0\n",
      "Generation 17, Best Fitness: 0\n",
      "Generation 18, Best Fitness: 0\n",
      "Generation 19, Best Fitness: 0\n",
      "Generation 20, Best Fitness: 0\n",
      "Best sequence: tensor([71, 69, 66, 66, 62, 60, 63, 63])\n"
     ]
    }
   ],
   "execution_count": 9
  }
 ],
 "metadata": {
  "kernelspec": {
   "display_name": "Python 3",
   "language": "python",
   "name": "python3"
  },
  "language_info": {
   "codemirror_mode": {
    "name": "ipython",
    "version": 2
   },
   "file_extension": ".py",
   "mimetype": "text/x-python",
   "name": "python",
   "nbconvert_exporter": "python",
   "pygments_lexer": "ipython2",
   "version": "2.7.6"
  }
 },
 "nbformat": 4,
 "nbformat_minor": 5
}
