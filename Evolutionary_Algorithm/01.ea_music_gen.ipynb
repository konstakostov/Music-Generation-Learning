{
 "cells": [
  {
   "metadata": {},
   "cell_type": "markdown",
   "source": "# Simple Evolutionary Algorithm",
   "id": "76e21c71a3bac64d"
  },
  {
   "metadata": {},
   "cell_type": "markdown",
   "source": "## Import Libraries",
   "id": "2d06d2a2edcc4d18"
  },
  {
   "cell_type": "code",
   "id": "initial_id",
   "metadata": {
    "collapsed": true
   },
   "source": [
    "import torch\n",
    "import pathlib\n",
    "import requests\n",
    "import zipfile\n",
    "import glob\n",
    "import pretty_midi\n",
    "import random\n",
    "from collections import Counter\n",
    "from IPython.display import Audio, display\n",
    "import time\n",
    "import pygame"
   ],
   "outputs": [],
   "execution_count": null
  },
  {
   "metadata": {},
   "cell_type": "markdown",
   "source": "## Set the device to GPU if available",
   "id": "290d8db0001dff9e"
  },
  {
   "metadata": {},
   "cell_type": "code",
   "source": [
    "device = torch.device('cuda' if torch.cuda.is_available() else 'cpu')\n",
    "\n",
    "print(f\"Using device: {device}\")"
   ],
   "id": "7a3c288f1c390705",
   "outputs": [],
   "execution_count": null
  },
  {
   "metadata": {},
   "cell_type": "markdown",
   "source": "## Constants",
   "id": "965041e9d2189316"
  },
  {
   "metadata": {},
   "cell_type": "code",
   "source": [
    "# Paths\n",
    "DATA_FOLDER_PATH = pathlib.Path(\"data/maestro-v3.0.0\")\n",
    "ZIP_FILE_PATH = pathlib.Path(\"data/maestro-v3.0.0-midi.zip\")\n",
    "\n",
    "# URLs\n",
    "URL = \"https://storage.googleapis.com/magentadata/datasets/maestro/v3.0.0/maestro-v3.0.0-midi.zip\""
   ],
   "id": "7c0493a494fb7c44",
   "outputs": [],
   "execution_count": null
  },
  {
   "metadata": {},
   "cell_type": "markdown",
   "source": "## Download and Extract Dataset",
   "id": "bdaf265e8f56ebbb"
  },
  {
   "metadata": {},
   "cell_type": "code",
   "source": [
    "if not DATA_FOLDER_PATH.exists():\n",
    "    DATA_FOLDER_PATH.parent.mkdir(parents=True, exist_ok=True)\n",
    "\n",
    "if not ZIP_FILE_PATH.exists():\n",
    "    print(f\"Downloading {URL}...\")\n",
    "    response = requests.get(URL, stream=True)\n",
    "    response.raise_for_status()\n",
    "    \n",
    "    with open(ZIP_FILE_PATH, \"wb\") as f:\n",
    "        for chunk in response.iter_content(chunk_size=8192):\n",
    "            f.write(chunk)\n",
    "    print(\"Download Completed.\")\n",
    "\n",
    "if ZIP_FILE_PATH.exists():\n",
    "    try:\n",
    "        print(f\"Extracting {ZIP_FILE_PATH}...\")\n",
    "        with zipfile.ZipFile(ZIP_FILE_PATH, 'r') as zip_ref:\n",
    "            zip_ref.extractall('data')\n",
    "        print(\"Extraction completed.\")\n",
    "    except zipfile.BadZipFile:\n",
    "        print(\"Error: The file is not a valid ZIP file or it is corrupted.\")\n",
    "else:\n",
    "    print(\"Error: ZIP file does not exist.\")"
   ],
   "id": "99115ac685464ba5",
   "outputs": [],
   "execution_count": null
  },
  {
   "metadata": {},
   "cell_type": "markdown",
   "source": "## Functions",
   "id": "f76edde2468f02b"
  },
  {
   "metadata": {},
   "cell_type": "markdown",
   "source": "### Load a MIDI file and convert it into a sequence of note numbers",
   "id": "87527d4bdac4ffd0"
  },
  {
   "metadata": {},
   "cell_type": "code",
   "source": [
    "def midi_to_sequence(midi_to_seq):\n",
    "    notes = []\n",
    "    \n",
    "    midi_data = pretty_midi.PrettyMIDI(midi_to_seq)\n",
    "    \n",
    "    for instrument in midi_data.instruments:\n",
    "        if not instrument.is_drum:\n",
    "            for note in instrument.notes:\n",
    "                notes.append(note.pitch)\n",
    "    \n",
    "    return torch.tensor(notes, device=device)"
   ],
   "id": "3d8261aa7e764a51",
   "outputs": [],
   "execution_count": null
  },
  {
   "metadata": {},
   "cell_type": "markdown",
   "source": "### Load MIDI files from the Dataset",
   "id": "cb39b07fbc61e5f6"
  },
  {
   "metadata": {},
   "cell_type": "code",
   "source": [
    "def load_midi_files(num_files=None):\n",
    "    all_filenames = glob.glob(str(DATA_FOLDER_PATH / '**/*.mid*'))\n",
    "    print('Total number of MIDI files:', len(all_filenames))\n",
    "    \n",
    "    if num_files:\n",
    "        all_filenames = random.sample(all_filenames, num_files)\n",
    "        print(f'Selected {num_files} MIDI files for training.')\n",
    "    else:\n",
    "        print('Using the entire dataset for training.')\n",
    "    \n",
    "    midi_seq_to_load = []\n",
    "    \n",
    "    for filename in all_filenames:\n",
    "        sequence = midi_to_sequence(filename)\n",
    "        midi_seq_to_load.append(sequence)\n",
    "    \n",
    "    return midi_seq_to_load"
   ],
   "id": "ec55f1e33bc671f9",
   "outputs": [],
   "execution_count": null
  },
  {
   "metadata": {},
   "cell_type": "markdown",
   "source": "### Fitness Function to Evaluate the Sequence",
   "id": "1f32684e005b6b0f"
  },
  {
   "metadata": {},
   "cell_type": "code",
   "source": [
    "def fitness_function(sequence, transition_probs):\n",
    "    fitness = 0\n",
    "    \n",
    "    for i in range(len(sequence) - 1):\n",
    "        pair = (sequence[i].item(), sequence[i + 1].item())\n",
    "        fitness += transition_probs.get(pair, 0)\n",
    "    \n",
    "    return fitness"
   ],
   "id": "1c48552f2d7406d6",
   "outputs": [],
   "execution_count": null
  },
  {
   "metadata": {},
   "cell_type": "markdown",
   "source": "### Initialize Population from MIDI Sequence",
   "id": "4eb495d4bc6a6340"
  },
  {
   "metadata": {},
   "cell_type": "code",
   "source": [
    "def initialize_population_from_midi(midi_seq_from_pop, pop_size):\n",
    "    population = []\n",
    "    seq_length = len(midi_seq_from_pop)\n",
    "    \n",
    "    for _ in range(pop_size):\n",
    "        start_idx = torch.randint(0, seq_length - 1, (1,), device=device).item()\n",
    "        end_idx = torch.randint(start_idx + 1, seq_length, (1,), device=device).item()\n",
    "        sequence = midi_seq_from_pop[start_idx:end_idx]\n",
    "        population.append(sequence)\n",
    "    \n",
    "    return population"
   ],
   "id": "2a6afc78a7e3436e",
   "outputs": [],
   "execution_count": null
  },
  {
   "metadata": {},
   "cell_type": "markdown",
   "source": "### Select Parents Based on Fitness Scores",
   "id": "90e1a2ec648bf9b9"
  },
  {
   "metadata": {},
   "cell_type": "code",
   "source": [
    "def select_parents(population, fitness_scores, num_parents):\n",
    "    _, indices = torch.topk(fitness_scores, num_parents)\n",
    "    \n",
    "    return [population[i] for i in indices]"
   ],
   "id": "69268c70588abfa5",
   "outputs": [],
   "execution_count": null
  },
  {
   "metadata": {},
   "cell_type": "markdown",
   "source": "### Crossover to Generate Offspring",
   "id": "3f8d7adf080b5b6f"
  },
  {
   "metadata": {},
   "cell_type": "code",
   "source": [
    "def crossover(parent1, parent2):\n",
    "    min_len = min(len(parent1), len(parent2))\n",
    "    \n",
    "    # If parents are too short, return one of them as is\n",
    "    if min_len < 2:\n",
    "        return parent1  \n",
    "    \n",
    "    point = torch.randint(1, min_len - 1, (1,), device=device).item()\n",
    "    child = torch.cat((parent1[:point], parent2[point:]))\n",
    "    \n",
    "    return child"
   ],
   "id": "ccb680b2878844c9",
   "outputs": [],
   "execution_count": null
  },
  {
   "metadata": {},
   "cell_type": "markdown",
   "source": "### Create Offspring from Parents",
   "id": "311eb0960124bf9c"
  },
  {
   "metadata": {},
   "cell_type": "code",
   "source": [
    "def create_offspring(parents, num_offspring):\n",
    "    offspring = []\n",
    "    \n",
    "    for _ in range(num_offspring):\n",
    "        parent1, parent2 = random.sample(parents, 2)\n",
    "        child = crossover(parent1, parent2)\n",
    "        offspring.append(child)\n",
    "    \n",
    "    return offspring"
   ],
   "id": "61c5fb2ba72c74db",
   "outputs": [],
   "execution_count": null
  },
  {
   "metadata": {},
   "cell_type": "markdown",
   "source": "### Mutate a Sequence",
   "id": "c2d057374c6c233c"
  },
  {
   "metadata": {},
   "cell_type": "code",
   "source": [
    "def mutate(sequence, mutation_rate=0.1):\n",
    "    mutation_mask = torch.rand(sequence.size(), device=device) < mutation_rate\n",
    "    random_notes = torch.randint(note_range[0], note_range[1], sequence.size(), device=device)\n",
    "    sequence[mutation_mask] = random_notes[mutation_mask]\n",
    "    \n",
    "    return sequence"
   ],
   "id": "b9346ad105532ce3",
   "outputs": [],
   "execution_count": null
  },
  {
   "metadata": {},
   "cell_type": "markdown",
   "source": "### Mutate a Population of Sequence",
   "id": "aae9603467da5d77"
  },
  {
   "metadata": {},
   "cell_type": "code",
   "source": [
    "def mutate_population(population, mutation_rate=0.1):\n",
    "    return [mutate(seq, mutation_rate) for seq in population]"
   ],
   "id": "9a0601f854c9ea45",
   "outputs": [],
   "execution_count": null
  },
  {
   "metadata": {},
   "cell_type": "markdown",
   "source": "### Evolutionary algorithm Using MIDI Sequence",
   "id": "ccfaae4af607d9f"
  },
  {
   "metadata": {},
   "cell_type": "code",
   "source": [
    "def evolutionary_algorithm_midi(num_generations, midi_seq_for_ea, pop_size, num_parents, mutation_rate):\n",
    "    population = initialize_population_from_midi(midi_seq_for_ea, pop_size)\n",
    "    transition_probs = calculate_transition_probabilities(midi_seq_for_ea)\n",
    "    \n",
    "    for generation in range(1, num_generations + 1):\n",
    "        fitness_scores = torch.tensor([fitness_function(seq, transition_probs) for seq in population], device=device)\n",
    "        parents = select_parents(population, fitness_scores, num_parents)\n",
    "        offspring = create_offspring(parents, pop_size - num_parents)\n",
    "        offspring = mutate_population(offspring, mutation_rate)\n",
    "        \n",
    "        population = parents + offspring\n",
    "        \n",
    "        best_fitness = fitness_scores.max().item()\n",
    "        \n",
    "        if generation % 5 == 0 or generation == num_generations:\n",
    "            print(f\"Generation {generation}, Best Fitness: {best_fitness}\")\n",
    "    \n",
    "    best_seq = population[torch.argmax(fitness_scores)]\n",
    "    \n",
    "    return best_seq"
   ],
   "id": "f23911f5fe9be2b0",
   "outputs": [],
   "execution_count": null
  },
  {
   "metadata": {},
   "cell_type": "markdown",
   "source": "### Calculate Transition Probabilities Between Notes",
   "id": "716536657c821b9a"
  },
  {
   "metadata": {},
   "cell_type": "code",
   "source": [
    "def calculate_transition_probabilities(midi_seq_calc):\n",
    "    transitions = [(midi_seq_calc[i], midi_seq_calc[i + 1]) for i in range(len(midi_seq_calc) - 1)]\n",
    "    transition_counts = Counter(transitions)\n",
    "    total_transitions = sum(transition_counts.values())\n",
    "    transition_probs = {k: v / total_transitions for k, v in transition_counts.items()}\n",
    "    \n",
    "    return transition_probs"
   ],
   "id": "fb5f392dd9bf4adc",
   "outputs": [],
   "execution_count": null
  },
  {
   "metadata": {},
   "cell_type": "markdown",
   "source": "### Convert Sequence to MIDI File",
   "id": "2388967e81a90447"
  },
  {
   "metadata": {},
   "cell_type": "code",
   "source": [
    "def sequence_to_midi(sequence, output_file):\n",
    "    midi_data = pretty_midi.PrettyMIDI()\n",
    "    instrument = pretty_midi.Instrument(program=0)\n",
    "    \n",
    "    # Ensure the sequence has notes\n",
    "    if len(sequence) == 0:\n",
    "        print(\"The sequence is empty. Skipping MIDI file creation.\")\n",
    "        return\n",
    "    \n",
    "    for i, note in enumerate(sequence):\n",
    "        note = int(note.item())\n",
    "        start_time = i * 0.5\n",
    "        end_time = (i + 1) * 0.5\n",
    "        midi_note = pretty_midi.Note(\n",
    "            velocity=100, pitch=note, start=start_time, end=end_time\n",
    "        )\n",
    "        instrument.notes.append(midi_note)\n",
    "    \n",
    "    # Add instrument and write the MIDI file\n",
    "    midi_data.instruments.append(instrument)\n",
    "    midi_data.write(output_file)\n",
    "    print(f\"MIDI file created: {output_file}\")"
   ],
   "id": "3ef0b20236b14536",
   "outputs": [],
   "execution_count": null
  },
  {
   "metadata": {},
   "cell_type": "markdown",
   "source": "### Play MIDI File in the Notebook",
   "id": "480a8c055617db6f"
  },
  {
   "metadata": {},
   "cell_type": "code",
   "source": [
    "# Function to play a MIDI file in the notebook\n",
    "def play_midi_file(midi_file):\n",
    "    try:\n",
    "        audio = pretty_midi.PrettyMIDI(midi_file).synthesize()\n",
    "        display(Audio(audio, rate=44100))\n",
    "        print(\"\\n\")\n",
    "    except Exception as e:\n",
    "        print(f\"Could not play the file: {e}\")"
   ],
   "id": "9e3aa42bd3892c54",
   "outputs": [],
   "execution_count": null
  },
  {
   "metadata": {},
   "cell_type": "markdown",
   "source": "## Set Parameters",
   "id": "aa0a2e94ad61cf64"
  },
  {
   "metadata": {},
   "cell_type": "code",
   "source": [
    "# Set this to None to use the entire dataset\n",
    "num_files_to_load = 1\n",
    "\n",
    "midi_sequences = load_midi_files(num_files=num_files_to_load)\n",
    "\n",
    "# Example note range for mutation\n",
    "note_range = (48, 72)"
   ],
   "id": "2d9d6aeeb8e34af1",
   "outputs": [],
   "execution_count": null
  },
  {
   "metadata": {},
   "cell_type": "markdown",
   "source": "## Run Evolutionary Algorithm",
   "id": "38b2c7a14e52ebb9"
  },
  {
   "metadata": {},
   "cell_type": "code",
   "source": [
    "current_sequence = 1\n",
    "\n",
    "for midi_sequence in midi_sequences:\n",
    "    print(f\"Sequence {current_sequence}: \\n\")\n",
    "    \n",
    "    best_sequence = evolutionary_algorithm_midi(\n",
    "        num_generations=20,\n",
    "        midi_seq_for_ea=midi_sequence,\n",
    "        pop_size=50,\n",
    "        num_parents=10,\n",
    "        mutation_rate=0.1\n",
    "    )\n",
    "    \n",
    "    if best_sequence is not None:\n",
    "        print(f\"Best sequence length: {len(best_sequence)} notes.\")\n",
    "        output_midi_file = f\"generated_music_{current_sequence}.mid\"\n",
    "        sequence_to_midi(best_sequence, output_midi_file)\n",
    "        play_midi_file(output_midi_file)\n",
    "    else:\n",
    "        print(\"No best sequence generated.\")\n",
    "    \n",
    "    current_sequence += 1"
   ],
   "id": "a1203c506ba0a3d5",
   "outputs": [],
   "execution_count": null
  },
  {
   "metadata": {},
   "cell_type": "markdown",
   "source": "## Play Specific Generated MIDI File",
   "id": "5a962131c90f7426"
  },
  {
   "metadata": {},
   "cell_type": "code",
   "source": [
    "def play_midi_file(midi_file):\n",
    "    pygame.init()\n",
    "    pygame.mixer.init()\n",
    "    pygame.mixer.music.load(midi_file)\n",
    "    pygame.mixer.music.play()\n",
    "\n",
    "    while pygame.mixer.music.get_busy():\n",
    "        time.sleep(1)\n",
    "\n",
    "    pygame.quit()\n",
    "\n",
    "output_midi_file_path = \"generated_music_3.mid\"\n",
    "\n",
    "# Play the generated MIDI file\n",
    "play_midi_file(output_midi_file_path)"
   ],
   "id": "a3a38c8cd326a260",
   "outputs": [],
   "execution_count": null
  }
 ],
 "metadata": {
  "kernelspec": {
   "display_name": "Python 3",
   "language": "python",
   "name": "python3"
  },
  "language_info": {
   "codemirror_mode": {
    "name": "ipython",
    "version": 2
   },
   "file_extension": ".py",
   "mimetype": "text/x-python",
   "name": "python",
   "nbconvert_exporter": "python",
   "pygments_lexer": "ipython2",
   "version": "2.7.6"
  }
 },
 "nbformat": 4,
 "nbformat_minor": 5
}
