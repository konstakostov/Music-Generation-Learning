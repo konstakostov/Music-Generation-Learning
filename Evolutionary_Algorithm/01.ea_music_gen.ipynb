{
 "cells": [
  {
   "metadata": {},
   "cell_type": "markdown",
   "source": "# Simple Evolutionary Algorithm",
   "id": "76e21c71a3bac64d"
  },
  {
   "metadata": {},
   "cell_type": "markdown",
   "source": [
    "## Import Libraries\n",
    "\n",
    "- **`torch`**: Tools for tensor operations and GPU acceleration, used in managing data and potential computations.\n",
    "- **`pathlib`**: Handle filesystem paths in an object-oriented way, used for managing file paths.\n",
    "- **`requests`**: Make HTTP requests, used to download the MIDI dataset from a URL.\n",
    "- **`zipfile`**: Handle ZIP archives, used to extract the downloaded dataset.\n",
    "- **`glob`**: Find path names matching a specified pattern, used to locate all MIDI files in the dataset.\n",
    "- **`pretty_midi`**: A library for handling MIDI files and musical notes in Python. It is used for loading MIDI files, converting note names to numbers, and saving MIDI files.\n",
    "- **`random`**: Generate random numbers, used in the evolutionary algorithm for selection and mutation processes.\n",
    "- **`from collections import Counter`**: Count the frequency of elements in a list, used to analyze note distributions in MIDI sequences.\n",
    "- **`from IPython.display import Audio, display`**: Play audio and display widgets in Jupyter Notebooks, used to play generated music directly in the notebook.\n",
    "- **`time`**: Used to pause execution while the music is playing.\n",
    "- **`pygame`**: A library for creating games. It is used to play the MIDI file sounds."
   ],
   "id": "2d06d2a2edcc4d18"
  },
  {
   "cell_type": "code",
   "id": "initial_id",
   "metadata": {
    "collapsed": true
   },
   "source": [
    "import torch\n",
    "import pathlib\n",
    "import requests\n",
    "import zipfile\n",
    "import glob\n",
    "import pretty_midi\n",
    "import random\n",
    "from collections import Counter\n",
    "from IPython.display import Audio, display\n",
    "import time\n",
    "import pygame"
   ],
   "outputs": [],
   "execution_count": null
  },
  {
   "metadata": {},
   "cell_type": "markdown",
   "source": "## Set the device to GPU if available",
   "id": "290d8db0001dff9e"
  },
  {
   "metadata": {},
   "cell_type": "code",
   "source": [
    "device = torch.device('cuda' if torch.cuda.is_available() else 'cpu')\n",
    "\n",
    "print(f\"Using device: {device}\")"
   ],
   "id": "7a3c288f1c390705",
   "outputs": [],
   "execution_count": null
  },
  {
   "metadata": {},
   "cell_type": "markdown",
   "source": "## Constants",
   "id": "965041e9d2189316"
  },
  {
   "metadata": {},
   "cell_type": "code",
   "source": [
    "# This is the URL for the dataset that will be downloaded & extracted\n",
    "URL = \"https://storage.googleapis.com/magentadata/datasets/maestro/v3.0.0/maestro-v3.0.0-midi.zip\"\n",
    "\n",
    "# The downloaded dataset will be stored at this path\n",
    "ZIP_FILE_PATH = pathlib.Path(\"data/maestro-v3.0.0-midi.zip\")\n",
    "\n",
    "# The dataset will be stored at this path after extraction\n",
    "DATA_FOLDER_PATH = pathlib.Path(\"data/maestro-v3.0.0\")"
   ],
   "id": "7c0493a494fb7c44",
   "outputs": [],
   "execution_count": null
  },
  {
   "metadata": {},
   "cell_type": "markdown",
   "source": "## Download and Extract Dataset",
   "id": "bdaf265e8f56ebbb"
  },
  {
   "metadata": {},
   "cell_type": "code",
   "source": [
    "# Check if the directory where the dataset will be stored exists & if it doesn't - create it\n",
    "if not DATA_FOLDER_PATH.exists():\n",
    "    DATA_FOLDER_PATH.parent.mkdir(parents=True, exist_ok=True)\n",
    "\n",
    "# Check if the .zip file (dataset) has been downloaded & if it isn't download id\n",
    "if not ZIP_FILE_PATH.exists():\n",
    "    print(f\"Downloading {URL}...\")\n",
    "    response = requests.get(URL, stream=True)\n",
    "    response.raise_for_status()\n",
    "    \n",
    "    with open(ZIP_FILE_PATH, \"wb\") as f:\n",
    "        for chunk in response.iter_content(chunk_size=8192):\n",
    "            f.write(chunk)\n",
    "    print(\"Download Completed.\")\n",
    "\n",
    "# Check if the dataset is downloaded & if it is extract its contents\n",
    "if ZIP_FILE_PATH.exists():\n",
    "    try:\n",
    "        print(f\"Extracting {ZIP_FILE_PATH}...\")\n",
    "        with zipfile.ZipFile(ZIP_FILE_PATH, 'r') as zip_ref:\n",
    "            zip_ref.extractall('data')\n",
    "        print(\"Extraction completed.\")\n",
    "    except zipfile.BadZipFile:\n",
    "        print(\"Error: The file is not a valid ZIP file or it is corrupted.\")\n",
    "else:\n",
    "    print(\"Error: ZIP file does not exist.\")"
   ],
   "id": "99115ac685464ba5",
   "outputs": [],
   "execution_count": null
  },
  {
   "metadata": {},
   "cell_type": "markdown",
   "source": "## Functions",
   "id": "f76edde2468f02b"
  },
  {
   "metadata": {},
   "cell_type": "markdown",
   "source": "### Load a MIDI file and convert it into a sequence of note numbers",
   "id": "87527d4bdac4ffd0"
  },
  {
   "metadata": {},
   "cell_type": "code",
   "source": [
    "def midi_to_sequence(midi_to_seq):\n",
    "    # Store notes (and their pitch) extracted from the MIDI file\n",
    "    notes = []\n",
    "\n",
    "    # Load the MIDI file as a PrettyMIDID object\n",
    "    midi_data = pretty_midi.PrettyMIDI(midi_to_seq)\n",
    "\n",
    "    # Iterate over the instruments in the MIDI file\n",
    "    for instrument in midi_data.instruments:\n",
    "        # Drums do not hold pitch differently, so drums won't be processed\n",
    "        if not instrument.is_drum:\n",
    "            for note in instrument.notes:\n",
    "                notes.append(note.pitch)\n",
    "\n",
    "    # Return notes and their pitch as a PyTorch tensor\n",
    "    return torch.tensor(notes, device=device)"
   ],
   "id": "3d8261aa7e764a51",
   "outputs": [],
   "execution_count": null
  },
  {
   "metadata": {},
   "cell_type": "markdown",
   "source": "### Load MIDI files from the Dataset",
   "id": "cb39b07fbc61e5f6"
  },
  {
   "metadata": {},
   "cell_type": "code",
   "source": [
    "def load_midi_files(num_files=None):\n",
    "    # Search for MIDI files and return the number of found files\n",
    "    all_filenames = glob.glob(str(DATA_FOLDER_PATH / '**/*.mid*'))\n",
    "    print('Total number of MIDI files:', len(all_filenames))\n",
    "\n",
    "    # Check if user has provided X number of files\n",
    "    if num_files:\n",
    "        # Select X number of files at random from the dataset for training\n",
    "        all_filenames = random.sample(all_filenames, num_files)\n",
    "        print(f'Selected {num_files} MIDI files for training.')\n",
    "    else:\n",
    "        # Select all files from the dataset for training\n",
    "        print('Using the entire dataset for training.')\n",
    "\n",
    "    # Variable to store a sequence of note pitches\n",
    "    midi_seq_to_load = []\n",
    "\n",
    "    # Iterate through the selected number of MIDI Files\n",
    "    for filename in all_filenames:\n",
    "        # Convert MIDI file into a Tensor of note pitches\n",
    "        sequence = midi_to_sequence(filename)\n",
    "\n",
    "        # # ADDED\n",
    "        print(f\"Loaded sequence length: {len(sequence)}\")\n",
    "\n",
    "        if len(sequence) > 1:\n",
    "            midi_seq_to_load.append(sequence)\n",
    "\n",
    "\n",
    "        # # Append the tensor to the sequence of note pitches\n",
    "        # midi_seq_to_load.append(sequence)\n",
    "\n",
    "    # Return a sequence of note pitches\n",
    "    return midi_seq_to_load"
   ],
   "id": "ec55f1e33bc671f9",
   "outputs": [],
   "execution_count": null
  },
  {
   "metadata": {},
   "cell_type": "markdown",
   "source": [
    "### Fitness Function to Evaluate the Sequence\n",
    "\n",
    "Evaluate the quality of the musical sequence based on its alignment with learned transition probabilities."
   ],
   "id": "1f32684e005b6b0f"
  },
  {
   "metadata": {},
   "cell_type": "code",
   "source": [
    "def fitness_function(sequence, transition_probs):\n",
    "    # Variable to accumulate the total fitness score of the sequence\n",
    "    fitness = 0\n",
    "    \n",
    "    # Iterate over the indices of the sequence\n",
    "    for i in range(len(sequence) - 1):\n",
    "        # Convert sequence elements to integers for dictionary lookup\n",
    "        \n",
    "        # Tuple of two consecutive elements from the sequence\n",
    "        # The elements are converted to integers with .item() method\n",
    "        pair = (sequence[i].item(), sequence[i + 1].item())\n",
    "        \n",
    "        # Transition probability (or score) of the pair\n",
    "        score = transition_probs.get(pair, 0)\n",
    "        \n",
    "        # Value is added to the total fitness score\n",
    "        fitness += score\n",
    "    \n",
    "    # Return the final fitness value\n",
    "    return fitness"
   ],
   "id": "1c48552f2d7406d6",
   "outputs": [],
   "execution_count": null
  },
  {
   "metadata": {},
   "cell_type": "markdown",
   "source": [
    "### Initialize Population from MIDI Sequence\n",
    "\n",
    "Create an initial population for an evolutionary algorithm. Each individual in this population is a sequence of MIDI notes, generated from a given MIDI sequence."
   ],
   "id": "4eb495d4bc6a6340"
  },
  {
   "metadata": {},
   "cell_type": "code",
   "source": [
    "def initialize_population_from_midi(midi_seq_from_pop, pop_size):\n",
    "    # Variable to store the generated sequences\n",
    "    population = []\n",
    "    # Compute length of the provided MIDI sequence,\n",
    "    # used to determine the range for selecting subsequences\n",
    "    seq_length = len(midi_seq_from_pop)\n",
    "\n",
    "    # Create the required number of \"individuals\" (subsequences)\n",
    "    for _ in range(pop_size):\n",
    "        # Randomly selected start index for the subsequence\n",
    "        start_idx = torch.randint(0, seq_length - 1, (1,), device=device).item()\n",
    "        \n",
    "        # Randomly selected end index for the subsequence\n",
    "        end_idx = torch.randint(start_idx + 1, seq_length, (1,), device=device).item()\n",
    "        \n",
    "        # Extract the subsequence in the specified range\n",
    "        sequence = midi_seq_from_pop[start_idx:end_idx]\n",
    "        \n",
    "        # Append the subsequence to the population sequence\n",
    "        population.append(sequence)\n",
    "\n",
    "    # Return the generated sequence as the initial population\n",
    "    return population"
   ],
   "id": "2a6afc78a7e3436e",
   "outputs": [],
   "execution_count": null
  },
  {
   "metadata": {},
   "cell_type": "markdown",
   "source": [
    "### Select Parents Based on Fitness Scores\n",
    "\n",
    "Select the top-performing individuals from the population based on their fitness scores. These individuals are considered as potential parents for the next generation in an evolutionary algorithm."
   ],
   "id": "90e1a2ec648bf9b9"
  },
  {
   "metadata": {},
   "cell_type": "code",
   "source": [
    "def select_parents(population, fitness_scores, num_parents):\n",
    "    # Find the indices of the top fitness scores\n",
    "    _, indices = torch.topk(fitness_scores, num_parents)\n",
    "\n",
    "    # Return a sequence with the highest fitness scores\n",
    "    return [population[i] for i in indices]"
   ],
   "id": "69268c70588abfa5",
   "outputs": [],
   "execution_count": null
  },
  {
   "metadata": {},
   "cell_type": "markdown",
   "source": [
    "### Crossover to Generate Offspring\n",
    "\n",
    "A single-point crossover operation between two parent sequences to generate a child sequence. This way genetic material is exchanged between parents to produce offspring."
   ],
   "id": "3f8d7adf080b5b6f"
  },
  {
   "metadata": {},
   "cell_type": "code",
   "source": [
    "def crossover(parent1, parent2):\n",
    "    # Find the minimum length between two parents sequences\n",
    "    # Ensures the crossover point is valid for both parents\n",
    "    min_len = min(len(parent1), len(parent2))\n",
    "    \n",
    "    # If parents are too short, return one of them as is\n",
    "    if min_len < 2:\n",
    "        return parent1  \n",
    "\n",
    "    # Select crossover point at random\n",
    "    point = torch.randint(1, min_len - 1, (1,), device=device).item()\n",
    "    \n",
    "    # Create a child sequence by concatenating the 1st part of parent1 and the 2nd part of parent2\n",
    "    child = torch.cat((parent1[:point], parent2[point:]))\n",
    "\n",
    "    # Return the created child sequence\n",
    "    return child"
   ],
   "id": "ccb680b2878844c9",
   "outputs": [],
   "execution_count": null
  },
  {
   "metadata": {},
   "cell_type": "markdown",
   "source": [
    "### Create Offspring from Parents\n",
    "\n",
    "Generate a specified number of offspring from a given set of parents using crossover operations. This way new individuals (*offspring*) are created to form the next generation."
   ],
   "id": "311eb0960124bf9c"
  },
  {
   "metadata": {},
   "cell_type": "code",
   "source": [
    "def create_offspring(parents, num_offspring):\n",
    "    # Variable to store the generated offspring\n",
    "    offspring = []\n",
    "\n",
    "    # Iterate through the user set number of offspring to be created\n",
    "    for _ in range(num_offspring):\n",
    "        # Select two different parents at random\n",
    "        parent1, parent2 = random.sample(parents, 2)\n",
    "        \n",
    "        # Create a child sequence\n",
    "        child = crossover(parent1, parent2)\n",
    "        \n",
    "        # Append the child as an offspring\n",
    "        offspring.append(child)\n",
    "\n",
    "    # Return the generated offspring\n",
    "    return offspring"
   ],
   "id": "61c5fb2ba72c74db",
   "outputs": [],
   "execution_count": null
  },
  {
   "metadata": {},
   "cell_type": "markdown",
   "source": [
    "### Mutate a Sequence\n",
    "\n",
    "Introduce random changes (*mutations*) to a sequence of notes with a specified probability. This is used to maintain genetic diversity and explore new solutions."
   ],
   "id": "c2d057374c6c233c"
  },
  {
   "metadata": {},
   "cell_type": "code",
   "source": [
    "def mutate(sequence, mutation_rate=0.1):\n",
    "    # Generate a tensor of random values (range 0-1) shaped as the sequence\n",
    "    # The comparison (< mutation_rate) creates a boolean mask where each element is True\n",
    "    # with probability mutation_rate and False otherwise. It determines which elements of\n",
    "    # the sequence will be mutated\n",
    "    mutation_mask = torch.rand(sequence.size(), device=device) < mutation_rate\n",
    "\n",
    "    # Generate a tensor of random values shaped as the sequence\n",
    "    # These notes are potential replacements for the mutated elements\n",
    "    random_notes = torch.randint(note_range[0], note_range[1],\n",
    "                                 sequence.size(), device=device)\n",
    "\n",
    "    # Update the sequence elements, using the mutation mask (For indices where is True)\n",
    "    sequence[mutation_mask] = random_notes[mutation_mask]\n",
    "\n",
    "    # Return the mutated sequence\n",
    "    return sequence"
   ],
   "id": "b9346ad105532ce3",
   "outputs": [],
   "execution_count": null
  },
  {
   "metadata": {},
   "cell_type": "markdown",
   "source": [
    "### Mutate a Population of Sequence\n",
    "\n",
    "\n",
    "Apply mutation to each sequence in the population."
   ],
   "id": "aae9603467da5d77"
  },
  {
   "metadata": {},
   "cell_type": "code",
   "source": [
    "def mutate_population(population, mutation_rate=0.1):\n",
    "    # Apply mutation to each sequence in the population sequences\n",
    "    return [mutate(seq, mutation_rate) for seq in population]"
   ],
   "id": "9a0601f854c9ea45",
   "outputs": [],
   "execution_count": null
  },
  {
   "metadata": {},
   "cell_type": "markdown",
   "source": [
    "### Calculate Transition Probabilities Between Notes\n",
    "\n",
    "Compute the probabilities of transitions between consecutive notes in a MIDI sequence."
   ],
   "id": "be83af2a39441a17"
  },
  {
   "metadata": {},
   "cell_type": "code",
   "source": [
    "def calculate_transition_probabilities(midi_seq_calc):\n",
    "    # List of tuples, where each tuple is a pair of consecutive notes\n",
    "    transitions = [\n",
    "        (midi_seq_calc[i].item(), midi_seq_calc[i + 1].item()) for i in range(len(midi_seq_calc) - 1)\n",
    "    ]\n",
    "\n",
    "    # Counts the occurrences of each transition pair\n",
    "    # Creates a dictionary where transition pairs are keys & counts - their values\n",
    "    transition_counts = Counter(transitions)\n",
    "\n",
    "    # Calculate the total number of transitions\n",
    "    total_transitions = sum(transition_counts.values())\n",
    "\n",
    "    # Calculate the probability of each transition\n",
    "    transition_probs = {pair: transition / total_transitions for pair, transition in transition_counts.items()}\n",
    "\n",
    "    # Return the transition probabilities\n",
    "    return transition_probs\n"
   ],
   "id": "d48245dd32dd9ad9",
   "outputs": [],
   "execution_count": null
  },
  {
   "metadata": {},
   "cell_type": "markdown",
   "source": [
    "### Evolutionary algorithm Using MIDI Sequence\n",
    "\n",
    "Implement the evolutionary algorithm to optimize a sequence of MIDI notes. The algorithm iterates over X number of generations, evolving a population of sequences to maximize the fitness score."
   ],
   "id": "ccfaae4af607d9f"
  },
  {
   "metadata": {},
   "cell_type": "code",
   "source": [
    "def evolutionary_algorithm_midi(num_generations, midi_seq_for_ea, pop_size, num_parents, mutation_rate):\n",
    "    # Initialise the population sequence from the provided MIDI sequence\n",
    "    population = initialize_population_from_midi(midi_seq_for_ea, pop_size)\n",
    "\n",
    "    # Calculate the transition probabilities between the notes in the MIDI sequence\n",
    "    transition_probs = calculate_transition_probabilities(midi_seq_for_ea)\n",
    "\n",
    "    # Iterate over the specified number of generations\n",
    "    for generation in range(1, num_generations + 1):\n",
    "        # Calculate the fitness score for each sequence in the population\n",
    "        fitness_scores = torch.tensor([fitness_function(seq, transition_probs) for seq in population], device=device)\n",
    "\n",
    "        # Select the parents for the next generations (top-performing sequence)\n",
    "        parents = select_parents(population, fitness_scores, num_parents)\n",
    "        # Generate the new offspring\n",
    "        offspring = create_offspring(parents, pop_size - num_parents)\n",
    "        # Mutate the newly generated offspring\n",
    "        offspring = mutate_population(offspring, mutation_rate)\n",
    "\n",
    "        # Combine the parents and their offspring to form the new population for the next generation\n",
    "        population = parents + offspring\n",
    "\n",
    "        # Find the best fitness score in the current generation\n",
    "        best_fitness = fitness_scores.max().item()\n",
    "\n",
    "        # Print a status message every 5th generation and for the last generation\n",
    "        if generation % 5 == 0 or generation == num_generations:\n",
    "            print(f\"Generation {generation}, Best Fitness: {best_fitness}\")\n",
    "\n",
    "    # Determine the sequence with the best fitness score\n",
    "    best_seq = population[torch.argmax(fitness_scores)]\n",
    "\n",
    "    # Return the sequence with the best fitness score\n",
    "    return best_seq"
   ],
   "id": "f23911f5fe9be2b0",
   "outputs": [],
   "execution_count": null
  },
  {
   "metadata": {},
   "cell_type": "markdown",
   "source": "### Convert Sequence to MIDI File",
   "id": "2388967e81a90447"
  },
  {
   "metadata": {},
   "cell_type": "code",
   "source": [
    "def sequence_to_midi(sequence, output_file):\n",
    "    # Create an empty prettyMIDI object\n",
    "    midi_data = pretty_midi.PrettyMIDI()\n",
    "    # Crete new Instrument object, program number 0 (Acoustic Grand Piano)\n",
    "    instrument = pretty_midi.Instrument(program=0)\n",
    "    \n",
    "    # Ensure the sequence has notes\n",
    "    if len(sequence) == 0:\n",
    "        print(\"The sequence is empty. Skipping MIDI file creation.\")\n",
    "        return\n",
    "\n",
    "    # Iterate over the note sequence\n",
    "    for i, note in enumerate(sequence):\n",
    "        # Turn the note to int from tensor\n",
    "        note = int(note.item())\n",
    "        # Set start time for the note\n",
    "        start_time = i * 0.5\n",
    "        # Set end time for the note\n",
    "        end_time = (i + 1) * 0.5\n",
    "\n",
    "        # Create a Note object with specified volume (velocity), pitch, start & end time\n",
    "        midi_note = pretty_midi.Note(\n",
    "            velocity=100, pitch=note, start=start_time, end=end_time\n",
    "        )\n",
    "\n",
    "        # Append the Note object to the instrument\n",
    "        instrument.notes.append(midi_note)\n",
    "    \n",
    "    # Add the instrument to the prettyMIDI object and create the MIDI file\n",
    "    midi_data.instruments.append(instrument)\n",
    "    midi_data.write(output_file)\n",
    "\n",
    "    print(f\"MIDI file created: {output_file}\")"
   ],
   "id": "3ef0b20236b14536",
   "outputs": [],
   "execution_count": null
  },
  {
   "metadata": {},
   "cell_type": "markdown",
   "source": "### Play MIDI File in the Notebook",
   "id": "480a8c055617db6f"
  },
  {
   "metadata": {},
   "cell_type": "code",
   "source": [
    "# Function to play a MIDI file in the notebook\n",
    "def play_midi_file(midi_file):\n",
    "    try:\n",
    "        audio = pretty_midi.PrettyMIDI(midi_file).synthesize()\n",
    "        display(Audio(audio, rate=44100))\n",
    "        print(\"\\n\")\n",
    "    except Exception as e:\n",
    "        print(f\"Could not play the file: {e}\")"
   ],
   "id": "9e3aa42bd3892c54",
   "outputs": [],
   "execution_count": null
  },
  {
   "metadata": {},
   "cell_type": "markdown",
   "source": "## Set Parameters",
   "id": "aa0a2e94ad61cf64"
  },
  {
   "metadata": {},
   "cell_type": "code",
   "source": [
    "# Number of MIDI files to load\n",
    "# Set this to None to use the entire dataset\n",
    "num_files_to_load = 2\n",
    "\n",
    "# Load the specified number of MIDI files\n",
    "# List, containing tensors, each representing a note sequence from the loaded MIDI files\n",
    "midi_sequences = load_midi_files(num_files=num_files_to_load)\n",
    "\n",
    "# The Range of MIDI notes to be used for a mutation\n",
    "# Note interval is C3 to C5\n",
    "note_range = (48, 72)"
   ],
   "id": "2d9d6aeeb8e34af1",
   "outputs": [],
   "execution_count": null
  },
  {
   "metadata": {},
   "cell_type": "markdown",
   "source": "## Run Evolutionary Algorithm",
   "id": "38b2c7a14e52ebb9"
  },
  {
   "metadata": {},
   "cell_type": "code",
   "source": [
    "# Counter of processed sequences\n",
    "current_sequence = 1\n",
    "\n",
    "# Iterate over the loaded MIDI sequences\n",
    "for midi_sequence in midi_sequences:\n",
    "    # Current sequence\n",
    "    print(f\"Sequence {current_sequence}: \\n\")\n",
    "\n",
    "    # Find the best sequence, based on the current MIDI sequence\n",
    "    best_sequence = evolutionary_algorithm_midi(\n",
    "        num_generations=20,\n",
    "        midi_seq_for_ea=midi_sequence,\n",
    "        pop_size=50,\n",
    "        num_parents=10,\n",
    "        mutation_rate=0.5\n",
    "    )\n",
    "\n",
    "    # Check if there created best_sequence\n",
    "    if best_sequence is not None:\n",
    "        print(f\"Best sequence length: {len(best_sequence)} notes.\")\n",
    "\n",
    "        # Filename for the generated MIDI file based on the current sequence\n",
    "        output_midi_file = f\"generated_music_{current_sequence}.mid\"\n",
    "\n",
    "        # Convert the best sequence to MIDI\n",
    "        sequence_to_midi(best_sequence, output_midi_file)\n",
    "\n",
    "        # Play the generated MIDI file\n",
    "        play_midi_file(output_midi_file)\n",
    "    else:\n",
    "        print(\"No best sequence generated.\")\n",
    "\n",
    "    # Increment the sequence counter for the next iteration\n",
    "    current_sequence += 1"
   ],
   "id": "a1203c506ba0a3d5",
   "outputs": [],
   "execution_count": null
  },
  {
   "metadata": {},
   "cell_type": "markdown",
   "source": "## Play Specific Generated MIDI File",
   "id": "5a962131c90f7426"
  },
  {
   "metadata": {},
   "cell_type": "code",
   "source": [
    "def play_specific_midi_file(midi_file):\n",
    "    pygame.init()\n",
    "    pygame.mixer.init()\n",
    "    pygame.mixer.music.load(midi_file)\n",
    "    pygame.mixer.music.play()\n",
    "\n",
    "    while pygame.mixer.music.get_busy():\n",
    "        time.sleep(1)\n",
    "\n",
    "    pygame.quit()\n",
    "\n",
    "output_midi_file_path = \"generated_music_3.mid\"\n",
    "\n",
    "# Play the generated MIDI file\n",
    "play_specific_midi_file(output_midi_file_path)"
   ],
   "id": "a3a38c8cd326a260",
   "outputs": [],
   "execution_count": null
  }
 ],
 "metadata": {
  "kernelspec": {
   "display_name": "Python 3",
   "language": "python",
   "name": "python3"
  },
  "language_info": {
   "codemirror_mode": {
    "name": "ipython",
    "version": 2
   },
   "file_extension": ".py",
   "mimetype": "text/x-python",
   "name": "python",
   "nbconvert_exporter": "python",
   "pygments_lexer": "ipython2",
   "version": "2.7.6"
  }
 },
 "nbformat": 4,
 "nbformat_minor": 5
}
