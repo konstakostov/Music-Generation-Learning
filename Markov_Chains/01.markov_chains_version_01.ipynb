{
 "cells": [
  {
   "cell_type": "code",
   "id": "initial_id",
   "metadata": {
    "collapsed": true,
    "ExecuteTime": {
     "end_time": "2024-08-11T09:17:35.378627Z",
     "start_time": "2024-08-11T09:17:35.178983Z"
    }
   },
   "source": [
    "# Import all required libraries\n",
    "import random\n",
    "\n",
    "from mingus.containers import Note\n",
    "from mingus.midi import midi_file_out\n",
    "from mingus.containers import Track, Bar\n",
    "\n",
    "import pygame\n",
    "\n",
    "import time"
   ],
   "outputs": [
    {
     "name": "stdout",
     "output_type": "stream",
     "text": [
      "pygame 2.6.0 (SDL 2.28.4, Python 3.9.19)\n",
      "Hello from the pygame community. https://www.pygame.org/contribute.html\n"
     ]
    }
   ],
   "execution_count": 1
  },
  {
   "metadata": {
    "ExecuteTime": {
     "end_time": "2024-08-11T09:17:35.386096Z",
     "start_time": "2024-08-11T09:17:35.380925Z"
    }
   },
   "cell_type": "code",
   "source": [
    "# Create example note sequence -> C Major Scale\n",
    "notes = ['C', 'D', 'E', 'F', 'G', 'A', 'B']"
   ],
   "id": "13e6887d7d6e9cb7",
   "outputs": [],
   "execution_count": 2
  },
  {
   "metadata": {
    "ExecuteTime": {
     "end_time": "2024-08-11T09:17:35.395130Z",
     "start_time": "2024-08-11T09:17:35.387212Z"
    }
   },
   "cell_type": "code",
   "source": [
    "# Define transition matrix for the notes\n",
    "transition_matrix = {\n",
    "    'C': ['D', 'E', 'F', 'G', 'A', 'B'],\n",
    "    'D': ['C', 'E', 'F', 'G', 'A', 'B'],\n",
    "    'E': ['C', 'D', 'F', 'G', 'A', 'B'],\n",
    "    'F': ['C', 'D', 'E', 'G', 'A', 'B'],\n",
    "    'G': ['C', 'D', 'E', 'F', 'A', 'B'],\n",
    "    'A': ['C', 'D', 'E', 'F', 'G', 'B'],\n",
    "    'B': ['C', 'D', 'E', 'F', 'G', 'A'],\n",
    "}"
   ],
   "id": "e01b08d17c76aa51",
   "outputs": [],
   "execution_count": 3
  },
  {
   "metadata": {
    "ExecuteTime": {
     "end_time": "2024-08-11T09:17:35.404255Z",
     "start_time": "2024-08-11T09:17:35.397405Z"
    }
   },
   "cell_type": "code",
   "source": [
    "# Generate music function\n",
    "def generate_music(start_note, length=20, octave=4):\n",
    "    music = []\n",
    "    current_note = start_note\n",
    "\n",
    "    for _ in range(length):\n",
    "        next_note = random.choice(transition_matrix[current_note])\n",
    "        next_note_obj = Note(next_note, octave)\n",
    "        music.append(next_note_obj)\n",
    "        current_note = next_note\n",
    "\n",
    "    return music"
   ],
   "id": "145b77f5ceaf9ede",
   "outputs": [],
   "execution_count": 4
  },
  {
   "metadata": {
    "ExecuteTime": {
     "end_time": "2024-08-11T09:17:35.413612Z",
     "start_time": "2024-08-11T09:17:35.405765Z"
    }
   },
   "cell_type": "code",
   "source": [
    "# Generate a music sequence starting from 'C' in the n-th octave with x-length of notes\n",
    "generated_music = generate_music('C', length=10, octave=3)\n",
    "print(\"Generated music sequence:\", [str(note) for note in generated_music])"
   ],
   "id": "438fc64f5d23ce86",
   "outputs": [
    {
     "name": "stdout",
     "output_type": "stream",
     "text": [
      "Generated music sequence: [\"'G-3'\", \"'C-3'\", \"'F-3'\", \"'B-3'\", \"'G-3'\", \"'B-3'\", \"'G-3'\", \"'C-3'\", \"'B-3'\", \"'A-3'\"]\n"
     ]
    }
   ],
   "execution_count": 5
  },
  {
   "metadata": {
    "ExecuteTime": {
     "end_time": "2024-08-11T09:17:35.421520Z",
     "start_time": "2024-08-11T09:17:35.415161Z"
    }
   },
   "cell_type": "code",
   "source": [
    "# Create a Track and add the sequence as Bars with notes\n",
    "track = Track()\n",
    "bar = Bar()"
   ],
   "id": "ed87fdea91affcf9",
   "outputs": [],
   "execution_count": 6
  },
  {
   "metadata": {
    "ExecuteTime": {
     "end_time": "2024-08-11T09:17:35.432365Z",
     "start_time": "2024-08-11T09:17:35.423467Z"
    }
   },
   "cell_type": "code",
   "source": [
    "# Add notes to the bar with a fixed duration (e.g., 4 beats per note)\n",
    "for note in generated_music:\n",
    "    if bar.is_full():\n",
    "        track.add_bar(bar)\n",
    "        bar = Bar()  # Start a new bar if the current one is full\n",
    "    bar.place_notes(note, 4)  # 4 beats per note"
   ],
   "id": "451729cf34ef67d0",
   "outputs": [],
   "execution_count": 7
  },
  {
   "metadata": {
    "ExecuteTime": {
     "end_time": "2024-08-11T09:17:35.741890Z",
     "start_time": "2024-08-11T09:17:35.433426Z"
    }
   },
   "cell_type": "code",
   "source": [
    "# Add the last bar even if it's not full\n",
    "track.add_bar(bar)\n",
    "\n",
    "# Write the Track to a MIDI file\n",
    "midi_filename = \"simple_melody.mid\"\n",
    "midi_file_out.write_Track(midi_filename, track)"
   ],
   "id": "4dd302664a1071e0",
   "outputs": [
    {
     "data": {
      "text/plain": [
       "True"
      ]
     },
     "execution_count": 8,
     "metadata": {},
     "output_type": "execute_result"
    }
   ],
   "execution_count": 8
  },
  {
   "metadata": {
    "ExecuteTime": {
     "end_time": "2024-08-11T09:17:41.201Z",
     "start_time": "2024-08-11T09:17:35.750057Z"
    }
   },
   "cell_type": "code",
   "source": [
    "# Initialize Pygame and play the MIDI file\n",
    "pygame.init()\n",
    "pygame.mixer.init()\n",
    "pygame.mixer.music.load(midi_filename)\n",
    "pygame.mixer.music.play()\n",
    "\n",
    "# Wait until the music finishes playing\n",
    "while pygame.mixer.music.get_busy():\n",
    "    time.sleep(1)\n",
    "\n",
    "pygame.quit()"
   ],
   "id": "ccba12d198faab77",
   "outputs": [],
   "execution_count": 9
  }
 ],
 "metadata": {
  "kernelspec": {
   "display_name": "Python 3",
   "language": "python",
   "name": "python3"
  },
  "language_info": {
   "codemirror_mode": {
    "name": "ipython",
    "version": 2
   },
   "file_extension": ".py",
   "mimetype": "text/x-python",
   "name": "python",
   "nbconvert_exporter": "python",
   "pygments_lexer": "ipython2",
   "version": "2.7.6"
  }
 },
 "nbformat": 4,
 "nbformat_minor": 5
}
