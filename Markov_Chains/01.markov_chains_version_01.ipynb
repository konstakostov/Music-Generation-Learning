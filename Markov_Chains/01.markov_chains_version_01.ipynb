{
 "cells": [
  {
   "metadata": {},
   "cell_type": "markdown",
   "source": [
    "### Import all required libraries\n",
    "\n",
    "- *`random`*: For generating random choices. It is used to select the next note in the music sequence;\n",
    "\n",
    "\n",
    "- *`mingus`*: Library for handling musical notation and MIDI files;\n",
    "- *`Note`*: Represents a musical note;\n",
    "- *`Bar`:* Classes for creating and managing MIDI bars of music;\n",
    "- *`Track`*: Classes for creating and managing MIDI tracks of music;\n",
    "- *`midi_file_out`*: Module for writing MIDI files;\n",
    "\n",
    "\n",
    "- *`pygame`*: Library for creating games. It is used to play the MIDI file sounds;\n",
    "\n",
    "\n",
    "- *`time`*: Used to pause execution while the music is playing."
   ],
   "id": "85bac4d4ab42b4a8"
  },
  {
   "cell_type": "code",
   "id": "initial_id",
   "metadata": {
    "collapsed": true,
    "ExecuteTime": {
     "end_time": "2024-08-11T12:47:18.306051Z",
     "start_time": "2024-08-11T12:47:18.035823Z"
    }
   },
   "source": [
    "import random\n",
    "\n",
    "from mingus.containers import Note, Track, Bar\n",
    "from mingus.midi import midi_file_out\n",
    "\n",
    "import pygame\n",
    "\n",
    "import time"
   ],
   "outputs": [
    {
     "name": "stdout",
     "output_type": "stream",
     "text": [
      "pygame 2.6.0 (SDL 2.28.4, Python 3.9.19)\n",
      "Hello from the pygame community. https://www.pygame.org/contribute.html\n"
     ]
    }
   ],
   "execution_count": 1
  },
  {
   "metadata": {},
   "cell_type": "markdown",
   "source": [
    "### Create an example note sequence\n",
    "\n",
    "The created list (*`notes`*) contains all the notes in the C Major scale. The list *`notes`* serves as the pool of note to generate music."
   ],
   "id": "b2978aafcc8598dc"
  },
  {
   "metadata": {
    "ExecuteTime": {
     "end_time": "2024-08-11T12:47:18.315212Z",
     "start_time": "2024-08-11T12:47:18.309636Z"
    }
   },
   "cell_type": "code",
   "source": "notes = ['C', 'D', 'E', 'F', 'G', 'A', 'B']",
   "id": "13e6887d7d6e9cb7",
   "outputs": [],
   "execution_count": 2
  },
  {
   "metadata": {},
   "cell_type": "markdown",
   "source": [
    "### Define transition matrix for the notes\n",
    "\n",
    "The dictionary (*`transition_matrix`*) is used to define a transition matrix. This matrix is used to map each note of the C Major scale and the next possible notes that can follow it. "
   ],
   "id": "8de0e96f99aa610a"
  },
  {
   "metadata": {
    "ExecuteTime": {
     "end_time": "2024-08-11T12:47:18.323105Z",
     "start_time": "2024-08-11T12:47:18.317314Z"
    }
   },
   "cell_type": "code",
   "source": [
    "transition_matrix = {\n",
    "    'C': ['D', 'E', 'F', 'G', 'A', 'B'],\n",
    "    'D': ['C', 'E', 'F', 'G', 'A', 'B'],\n",
    "    'E': ['C', 'D', 'F', 'G', 'A', 'B'],\n",
    "    'F': ['C', 'D', 'E', 'G', 'A', 'B'],\n",
    "    'G': ['C', 'D', 'E', 'F', 'A', 'B'],\n",
    "    'A': ['C', 'D', 'E', 'F', 'G', 'B'],\n",
    "    'B': ['C', 'D', 'E', 'F', 'G', 'A'],\n",
    "}"
   ],
   "id": "e01b08d17c76aa51",
   "outputs": [],
   "execution_count": 3
  },
  {
   "metadata": {},
   "cell_type": "markdown",
   "source": [
    "### Generate music function\n",
    "\n",
    "The function (*`generate_music`*) is used to create a sequence of musical notes. The function takes as arguments the following:\n",
    "* *`start_note`* -> The starting (base) note of the sequence;\n",
    "* *`length`* -> The number of notes to be generated (Default length is 20);\n",
    "* *`octave`* -> The octave of the notes (Default octave is 4th).\n",
    "\n",
    "When the function is called, the following occurs:\n",
    "1. An empty *`music`* list is created to store all the generated notes.\n",
    "2. The starting note of the sequence is user defined. \n",
    "3. For the desired number of notes to be generated (*`length`*):\n",
    "    1. A random note is chosen from the transitional matrix. The base note is given as a key, and then from the key's value the following note is chosen at random.\n",
    "    2. After choosing the next note it is used to create a *`Note`* object at the specified *`octave`*.\n",
    "    3. The created note object (*`next_note_obj`* is appended to the *`music`* list.\n",
    "    4. The *`current_note`* is updated.\n",
    "4. The *`music`* list, containing all the predicted/generated notes, is returned. "
   ],
   "id": "e59d34ed0ee4d765"
  },
  {
   "metadata": {
    "ExecuteTime": {
     "end_time": "2024-08-11T12:47:18.334062Z",
     "start_time": "2024-08-11T12:47:18.325806Z"
    }
   },
   "cell_type": "code",
   "source": [
    "def generate_music(start_note, length=20, octave=4):\n",
    "    music = []\n",
    "    current_note = start_note\n",
    "\n",
    "    for _ in range(length):\n",
    "        next_note = random.choice(transition_matrix[current_note])\n",
    "        next_note_obj = Note(next_note, octave)\n",
    "        music.append(next_note_obj)\n",
    "        current_note = next_note\n",
    "\n",
    "    return music"
   ],
   "id": "145b77f5ceaf9ede",
   "outputs": [],
   "execution_count": 4
  },
  {
   "metadata": {},
   "cell_type": "markdown",
   "source": [
    "### Generate a music sequence\n",
    "\n",
    "The *`generated_music`* variable is defined by calling the *`generate_music`* function. as parameters to the function are provided the base note, the number of notes to generate (if different from the default length of 20) and the octave in which the notes to be (if different from the default 4th octave). \n",
    "\n",
    "The generated music sequence is printed to the user.\n"
   ],
   "id": "a21d554ae2f88e71"
  },
  {
   "metadata": {
    "ExecuteTime": {
     "end_time": "2024-08-11T12:47:18.347220Z",
     "start_time": "2024-08-11T12:47:18.339992Z"
    }
   },
   "cell_type": "code",
   "source": [
    "generated_music = generate_music('C', length=20, octave=2)\n",
    "print(\"Generated music sequence:\", [str(note) for note in generated_music])"
   ],
   "id": "438fc64f5d23ce86",
   "outputs": [
    {
     "name": "stdout",
     "output_type": "stream",
     "text": [
      "Generated music sequence: [\"'A-2'\", \"'E-2'\", \"'B-2'\", \"'G-2'\", \"'D-2'\", \"'B-2'\", \"'G-2'\", \"'E-2'\", \"'C-2'\", \"'G-2'\", \"'B-2'\", \"'E-2'\", \"'D-2'\", \"'F-2'\", \"'E-2'\", \"'A-2'\", \"'B-2'\", \"'C-2'\", \"'A-2'\", \"'F-2'\"]\n"
     ]
    }
   ],
   "execution_count": 5
  },
  {
   "metadata": {},
   "cell_type": "markdown",
   "source": [
    "### Creating Track() and Bar() objects\n",
    "\n",
    "* *`track`* is a collection of bars.\n",
    "* *`bar`* is a sequence of notes."
   ],
   "id": "75a95a0143c9655"
  },
  {
   "metadata": {
    "ExecuteTime": {
     "end_time": "2024-08-11T12:47:18.354628Z",
     "start_time": "2024-08-11T12:47:18.348886Z"
    }
   },
   "cell_type": "code",
   "source": [
    "track = Track()\n",
    "bar = Bar()"
   ],
   "id": "ed87fdea91affcf9",
   "outputs": [],
   "execution_count": 6
  },
  {
   "metadata": {},
   "cell_type": "markdown",
   "source": [
    "### Add notes to the bar\n",
    "\n",
    "Iterating over the generated *`notes`* and adding them to the current *`bar`*. Each bar contains a set number of beats (in this case 4 beats) the bar is added to the *`track`*, and a new *`bar`* is started. After iterating over all the *`notes`* the last *`bar`* is added to the *`track`* even if it is not full."
   ],
   "id": "2ca87cc2c9bfc1a7"
  },
  {
   "metadata": {
    "ExecuteTime": {
     "end_time": "2024-08-11T12:47:18.378275Z",
     "start_time": "2024-08-11T12:47:18.355830Z"
    }
   },
   "cell_type": "code",
   "source": [
    "# Add notes to the bar with a fixed duration\n",
    "for note in generated_music:\n",
    "    if bar.is_full():\n",
    "        track.add_bar(bar)\n",
    "        bar = Bar()  # Start a new bar if the current one is full\n",
    "    bar.place_notes(note, 4)  # 4 beats per note\n",
    "\n",
    "# Add the last bar even if it's not full\n",
    "track.add_bar(bar)"
   ],
   "id": "451729cf34ef67d0",
   "outputs": [
    {
     "data": {
      "text/plain": [
       "[None, [[[0.0, 4, ['A-2']], [0.25, 4, ['E-2']], [0.5, 4, ['B-2']], [0.75, 4, ['G-2']]], [[0.0, 4, ['D-2']], [0.25, 4, ['B-2']], [0.5, 4, ['G-2']], [0.75, 4, ['E-2']]], [[0.0, 4, ['C-2']], [0.25, 4, ['G-2']], [0.5, 4, ['B-2']], [0.75, 4, ['E-2']]], [[0.0, 4, ['D-2']], [0.25, 4, ['F-2']], [0.5, 4, ['E-2']], [0.75, 4, ['A-2']]], [[0.0, 4, ['B-2']], [0.25, 4, ['C-2']], [0.5, 4, ['A-2']], [0.75, 4, ['F-2']]]]]"
      ]
     },
     "execution_count": 7,
     "metadata": {},
     "output_type": "execute_result"
    }
   ],
   "execution_count": 7
  },
  {
   "metadata": {},
   "cell_type": "markdown",
   "source": [
    "### Write the Track to a MIDI file\n",
    "\n",
    "The MIDI file is created by using *`midi_file_out.write_Track()`*. As arguments are provided:\n",
    "* MIDI file name (*`midi_filename`*); \n",
    "* The created *`track`*."
   ],
   "id": "cb4c3ef26d3926bd"
  },
  {
   "metadata": {
    "ExecuteTime": {
     "end_time": "2024-08-11T12:47:18.395575Z",
     "start_time": "2024-08-11T12:47:18.386790Z"
    }
   },
   "cell_type": "code",
   "source": [
    "midi_filename = \"simple_melody.mid\"\n",
    "midi_file_out.write_Track(midi_filename, track)"
   ],
   "id": "4dd302664a1071e0",
   "outputs": [
    {
     "data": {
      "text/plain": [
       "True"
      ]
     },
     "execution_count": 8,
     "metadata": {},
     "output_type": "execute_result"
    }
   ],
   "execution_count": 8
  },
  {
   "metadata": {},
   "cell_type": "markdown",
   "source": [
    "### Playing the MIDI file\n",
    "\n",
    "To play the MIDI file is required to: \n",
    "1. Initialize the Pygame library (*`pygame.init()`*);\n",
    "2. Initialize the Pygame mixer module for playing sound (*`pygame.mixer.init()`*);\n",
    "3.  Load the generated MIDI file (*`pygame.mixer.music.load(midi_filename)`*);\n",
    "4. Start playing the MIDI file (*`pygame.mixer.music.play()`*);\n",
    "5. Wait until the music finishes playing (*`while pygame.mixer.music.get_busy()`*);\n",
    "6. Quit Pygame (*`pygame.quit()`*)."
   ],
   "id": "9624a98c786c4ed8"
  },
  {
   "metadata": {
    "ExecuteTime": {
     "end_time": "2024-08-11T12:47:28.725157Z",
     "start_time": "2024-08-11T12:47:18.398364Z"
    }
   },
   "cell_type": "code",
   "source": [
    "# Initialize Pygame and play the MIDI file\n",
    "pygame.init()\n",
    "pygame.mixer.init()\n",
    "pygame.mixer.music.load(midi_filename)\n",
    "pygame.mixer.music.play()\n",
    "\n",
    "# Wait until the music finishes playing\n",
    "while pygame.mixer.music.get_busy():\n",
    "    time.sleep(1)\n",
    "\n",
    "# Quit Pygame\n",
    "pygame.quit()"
   ],
   "id": "ccba12d198faab77",
   "outputs": [],
   "execution_count": 9
  }
 ],
 "metadata": {
  "kernelspec": {
   "display_name": "Python 3",
   "language": "python",
   "name": "python3"
  },
  "language_info": {
   "codemirror_mode": {
    "name": "ipython",
    "version": 2
   },
   "file_extension": ".py",
   "mimetype": "text/x-python",
   "name": "python",
   "nbconvert_exporter": "python",
   "pygments_lexer": "ipython2",
   "version": "2.7.6"
  }
 },
 "nbformat": 4,
 "nbformat_minor": 5
}
