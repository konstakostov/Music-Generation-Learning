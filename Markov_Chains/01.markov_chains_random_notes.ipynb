{
 "cells": [
  {
   "metadata": {},
   "cell_type": "markdown",
   "source": "# Generating a random sequence of musical notes with Markov Chains",
   "id": "f01620199afd8377"
  },
  {
   "metadata": {},
   "cell_type": "markdown",
   "source": [
    "## Import All Required Libraries\n",
    "\n",
    "- **`pretty_midi`**: A library for handling MIDI files and musical notes in Python. It is used for loading MIDI files, converting note names to numbers, and saving MIDI files.\n",
    "- **`random`**: Used for generating random choices, such as selecting the next note in the sequence.\n",
    "- **`os`**: Provides functions to interact with the operating system, such as creating directories.\n",
    "- **`pygame`**: A library for creating games. It is used to play the MIDI file sounds.\n",
    "- **`time`**: Used to pause execution while the music is playing."
   ],
   "id": "975bb37051499891"
  },
  {
   "metadata": {},
   "cell_type": "code",
   "source": [
    "import pretty_midi as pm\n",
    "import random\n",
    "import os\n",
    "import pygame\n",
    "import time"
   ],
   "id": "fe8004c1f6f1e160",
   "outputs": [],
   "execution_count": null
  },
  {
   "metadata": {},
   "cell_type": "markdown",
   "source": [
    "## Create an example note sequence\n",
    "\n",
    "The created list (*`notes`*) contains all the notes in the C Major scale. The list *`notes`* serves as the pool of note to generate music."
   ],
   "id": "3a564a3f8d1ac08f"
  },
  {
   "metadata": {},
   "cell_type": "code",
   "source": "notes = ['C', 'D', 'E', 'F', 'G', 'A', 'B']",
   "id": "9a155f2bd518af33",
   "outputs": [],
   "execution_count": null
  },
  {
   "metadata": {},
   "cell_type": "markdown",
   "source": [
    "## Define transition matrix for the notes\n",
    "\n",
    "The dictionary (*`transition_matrix`*) is used to define a transition matrix. This matrix is used to map each note of the C Major scale and the next possible notes that can follow it. "
   ],
   "id": "4967830565c2ac05"
  },
  {
   "metadata": {},
   "cell_type": "code",
   "source": [
    "transition_matrix = {\n",
    "    'C': ['D', 'E', 'F', 'G', 'A', 'B'],\n",
    "    'D': ['C', 'E', 'F', 'G', 'A', 'B'],\n",
    "    'E': ['C', 'D', 'F', 'G', 'A', 'B'],\n",
    "    'F': ['C', 'D', 'E', 'G', 'A', 'B'],\n",
    "    'G': ['C', 'D', 'E', 'F', 'A', 'B'],\n",
    "    'A': ['C', 'D', 'E', 'F', 'G', 'B'],\n",
    "    'B': ['C', 'D', 'E', 'F', 'G', 'A'],\n",
    "}"
   ],
   "id": "8cc9d6d7e7ddeb88",
   "outputs": [],
   "execution_count": null
  },
  {
   "metadata": {},
   "cell_type": "markdown",
   "source": [
    "## Generate music function\n",
    "\n",
    "The function (*`generate_music`*) is used to create a sequence of musical notes. The function takes as arguments the following:\n",
    "* *`start_note`* -> The starting (base) note of the sequence;\n",
    "* *`length`* -> The number of notes to be generated (Default length is 20);\n",
    "* *`octave`* -> The octave of the notes (Default octave is 4th).\n",
    "\n",
    "When the function is called, the following occurs:\n",
    "1. An empty *`music`* list is created to store all the generated notes.\n",
    "2. The *`current_note`* is set to the *`start_note`*, marking the beginning of the sequence.\n",
    "3. For the desired number of notes to be generated (*`length`*):\n",
    "    1. A random next note is chosen from the transition_matrix based on the *`current_note`*. The *`transition_matrix`* maps each note to a list of possible, later notes.\n",
    "    2. The selected note is converted into a MIDI note number, combining the note name with the octave.\n",
    "    3. This MIDI note number is appended to the *`music`* list.\n",
    "    4. The *`current_note`* is updated.\n",
    "4. The *`music`* list, containing all the predicted/generated notes, is returned. "
   ],
   "id": "55f81b15374f2738"
  },
  {
   "metadata": {},
   "cell_type": "code",
   "source": [
    "def generate_music(start_note, length=20, octave=4):\n",
    "    music = [start_note + str(octave)]\n",
    "    current_note = start_note\n",
    "\n",
    "    for _ in range(length):\n",
    "        next_note = random.choice(transition_matrix[current_note])\n",
    "        note_number = next_note + str(octave)\n",
    "        music.append(note_number)\n",
    "        current_note = next_note\n",
    "\n",
    "    return music"
   ],
   "id": "5f59f370e3ae5d35",
   "outputs": [],
   "execution_count": null
  },
  {
   "metadata": {},
   "cell_type": "markdown",
   "source": [
    "## Generate a music sequence\n",
    "\n",
    "The *`generated_music`* variable is defined by calling the *`generate_music`* function. as parameters to the function are provided the base note, the number of notes to generate (if different from the default length of 20) and the octave in which the notes to be (if different from the default 4th octave). \n",
    "\n",
    "The generated music sequence is printed to the user.\n"
   ],
   "id": "d3c44095f55702e8"
  },
  {
   "metadata": {},
   "cell_type": "code",
   "source": [
    "generated_music = generate_music('C', length=20, octave=2)\n",
    "print(\"Generated music sequence:\", generated_music)"
   ],
   "id": "c5f304772a7a5b00",
   "outputs": [],
   "execution_count": null
  },
  {
   "metadata": {},
   "cell_type": "markdown",
   "source": [
    "## Creating MIDI File\n",
    "\n",
    "The function *`create_midi_file()`* saves the generated music sequence as a MIDI file:\n",
    "1. *`midi_data`*: Create a new PrettyMIDI object;\n",
    "2. *`instrument`*: Create a new PrettyMIDI instrument and select its type;\n",
    "3. *`start_time`* & *`duration`*: Set start time of the note & set its duration;\n",
    "4. Iterate through the notes of the generated music and append it to the *`instrument`*'s notes;\n",
    "5. *`instrument`*'s notes are appended to the *`midi_data`* variable;\n",
    "6. The *`midi_data`* is saved at the provided file save path."
   ],
   "id": "b7d1fe96f3b2d849"
  },
  {
   "metadata": {},
   "cell_type": "code",
   "source": [
    "def create_midi_file(gen_notes, file_path):\n",
    "    midi_data = pm.PrettyMIDI()\n",
    "    instrument = pm.Instrument(program=0)  # program=0 is Acoustic Grand Piano\n",
    "    \n",
    "    start_time = 0.0\n",
    "    duration = 0.5\n",
    "    \n",
    "    for note_name in gen_notes:\n",
    "        note_number = pm.note_name_to_number(note_name)\n",
    "        note = pm.Note(velocity=50,   # Volume Level\n",
    "                                pitch=note_number, \n",
    "                                start=start_time, \n",
    "                                end=start_time + duration)\n",
    "        instrument.notes.append(note)\n",
    "        \n",
    "        start_time += duration\n",
    "    \n",
    "    midi_data.instruments.append(instrument)\n",
    "    midi_data.write(file_path)"
   ],
   "id": "baa5d2f0cc1a20ea",
   "outputs": [],
   "execution_count": null
  },
  {
   "metadata": {},
   "cell_type": "code",
   "source": [
    "# Set folder to save MIDI file in\n",
    "folder_path = \"midi_files_generated\"\n",
    "os.makedirs(folder_path, exist_ok=True)\n",
    "\n",
    "# Set MIDI file name\n",
    "midi_filename = \"markov_random_notes.mid\"\n",
    "output_midi_file_path = os.path.join(folder_path, midi_filename)\n",
    "\n",
    "# Create the MIDI file\n",
    "create_midi_file(generated_music, output_midi_file_path)"
   ],
   "id": "e6eadc1555f1cf17",
   "outputs": [],
   "execution_count": null
  },
  {
   "metadata": {},
   "cell_type": "markdown",
   "source": [
    "## Playing the MIDI file\n",
    "\n",
    "To play the MIDI file is required to: \n",
    "1. Initialize the Pygame library (*`pygame.init()`*);\n",
    "2. Initialize the Pygame mixer module for playing sound (*`pygame.mixer.init()`*);\n",
    "3.  Load the generated MIDI file (*`pygame.mixer.music.load(midi_filename)`*);\n",
    "4. Start playing the MIDI file (*`pygame.mixer.music.play()`*);\n",
    "5. Wait until the music finishes playing (*`while pygame.mixer.music.get_busy()`*);\n",
    "6. Quit Pygame (*`pygame.quit()`*)."
   ],
   "id": "a8dbe57d5f8208d7"
  },
  {
   "metadata": {},
   "cell_type": "code",
   "source": [
    "def play_midi_file(midi_file):\n",
    "    pygame.init()\n",
    "    pygame.mixer.init()\n",
    "    pygame.mixer.music.load(midi_file)\n",
    "    pygame.mixer.music.play()\n",
    "\n",
    "    while pygame.mixer.music.get_busy():\n",
    "        time.sleep(1)\n",
    "\n",
    "    pygame.quit()\n"
   ],
   "id": "c304c3a3181ee028",
   "outputs": [],
   "execution_count": null
  },
  {
   "metadata": {},
   "cell_type": "code",
   "source": [
    "# Play the generated MIDI file\n",
    "play_midi_file(output_midi_file_path)"
   ],
   "id": "36a81141a50ad49",
   "outputs": [],
   "execution_count": null
  }
 ],
 "metadata": {
  "kernelspec": {
   "display_name": "Python 3",
   "language": "python",
   "name": "python3"
  },
  "language_info": {
   "codemirror_mode": {
    "name": "ipython",
    "version": 2
   },
   "file_extension": ".py",
   "mimetype": "text/x-python",
   "name": "python",
   "nbconvert_exporter": "python",
   "pygments_lexer": "ipython2",
   "version": "2.7.6"
  }
 },
 "nbformat": 4,
 "nbformat_minor": 5
}
