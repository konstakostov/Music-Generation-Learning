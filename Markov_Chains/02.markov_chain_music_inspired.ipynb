{
 "cells": [
  {
   "metadata": {},
   "cell_type": "markdown",
   "source": "# Generating music with Markov Chains using real music as training data",
   "id": "1632d6c5b7698428"
  },
  {
   "metadata": {},
   "cell_type": "markdown",
   "source": [
    "## Import All Required Libraries\n",
    "\n",
    "- **`pretty_midi`**: A library for handling MIDI files and musical notes in Python. It is used for loading MIDI files, converting note names to numbers, and saving MIDI files.\n",
    "- **`random`**: Used for generating random choices, such as selecting the next note in the sequence.\n",
    "- **`os`**: Provides functions to interact with the operating system, such as creating directories.\n",
    "- **`pygame`**: A library for creating games. It is used to play the MIDI file sounds.\n",
    "- **`time`**: Used to pause execution while the music is playing."
   ],
   "id": "41d438aecd096fca"
  },
  {
   "metadata": {},
   "cell_type": "code",
   "source": [
    "import pretty_midi as pm\n",
    "from collections import defaultdict\n",
    "import random\n",
    "import os\n",
    "import pygame\n",
    "import time"
   ],
   "id": "970df7a1909e8999",
   "outputs": [],
   "execution_count": null
  },
  {
   "metadata": {},
   "cell_type": "markdown",
   "source": [
    "## Extract Notes from a MIDI File\n",
    "\n",
    "The function *`extract_notes_from_midi()`* extracts notes from a MIDI file:\n",
    "1. The *`extracted_notes`* list will store all extracted notes from the imported MIDI file;\n",
    "2. The MIDI file is loaded and stored int *`midi_data`*;\n",
    "3. All the instrument data is extracted by iterating through the MIDI file data. The extracted notes are appended to the *`extracted_notes`* list;\n",
    "4. The function returns the *`extracted_notes`* list, containing all the extracted data from the MIDI file.\n",
    "\n",
    "After providing the MIDI file path the function is called and the extracted notes are saved as a variable (*`notes`*)."
   ],
   "id": "168b9e573d168e0d"
  },
  {
   "metadata": {},
   "cell_type": "code",
   "source": [
    "def extract_notes_from_midi(midi_file_path):\n",
    "    extracted_notes = []\n",
    "    \n",
    "    # Load the MIDI file\n",
    "    midi_data = pm.PrettyMIDI(midi_file_path)\n",
    "    \n",
    "    # Extract notes from all instruments\n",
    "    for instrument in midi_data.instruments:\n",
    "        for note in instrument.notes:\n",
    "            extracted_notes.append(pm.note_number_to_name(note.pitch))\n",
    "    \n",
    "    return extracted_notes"
   ],
   "id": "a55a8ca75c717278",
   "outputs": [],
   "execution_count": null
  },
  {
   "metadata": {},
   "cell_type": "code",
   "source": [
    "# MIDI file path\n",
    "midi_path = \"midi_files/Never-Gonna-Give-You-Up-2.mid\"\n",
    "\n",
    "# Calling the extract_notes_from_midi() function and storing all the extracted notes\n",
    "notes = extract_notes_from_midi(midi_path)"
   ],
   "id": "302197a5bed4706e",
   "outputs": [],
   "execution_count": null
  },
  {
   "metadata": {},
   "cell_type": "markdown",
   "source": [
    "## Build Transformation Matrix\n",
    "\n",
    "The function *`build_transition_matrix()`* creates a transition matrix from a sequence of music notes:\n",
    "1. *`transition_matrix_new`*: Dictionary to store lists of possible next note, to the current note (key);\n",
    "2. Iterating through the list of music notes. Each subsequent note is appended to the list of the current note in the matrix.\n",
    "3. After iterating through all the notes the *`transition_matrix_new`* dictionary is returned.\n",
    "\n",
    "After calling the function the *`transition_matrix_new`* dictionary is stored as a variable (*`transition_matrix`*)"
   ],
   "id": "8abfe9e26977b607"
  },
  {
   "metadata": {},
   "cell_type": "code",
   "source": [
    "def build_transition_matrix(music_notes):\n",
    "    transition_matrix_new = defaultdict(list)\n",
    "    \n",
    "    for i in range(len(music_notes) - 1):\n",
    "        current_note = music_notes[i]\n",
    "        next_note = music_notes[i + 1]\n",
    "        \n",
    "        transition_matrix_new[current_note].append(next_note)\n",
    "    \n",
    "    return transition_matrix_new"
   ],
   "id": "4894e545d8bfd6c8",
   "outputs": [],
   "execution_count": null
  },
  {
   "metadata": {},
   "cell_type": "code",
   "source": "transition_matrix = build_transition_matrix(notes)",
   "id": "205002fe00457fad",
   "outputs": [],
   "execution_count": null
  },
  {
   "metadata": {},
   "cell_type": "markdown",
   "source": [
    "## Generate Music\n",
    "\n",
    "The function *`generate_music()`* creates a sequence of music notes using the transition matrix:\n",
    "1. *`music`*: List containing all generated notes. The first note inside is the starting note (manually provided);\n",
    "2. *`current_note`*: Variable, determining the current note;\n",
    "3. Iterating through the list of notes:\n",
    "    1. The note following the *`current_note`* is determined randomly (*`next_note`*);\n",
    "    2. The *`next_note`* is appended to the *`music`* list;\n",
    "    3. The *`current_note`* takes the value of the *`next_note`*.\n",
    "4. After iterating through all the notes the *`music`* list is returned.\n",
    "\n",
    "Before calling the function, the starting note is determined randomly from all the notes.\n",
    "After calling the function, and providing the required parameters (the transition matrix, the starting note and the number of notes to e generated, the default=20) the generated music is stored as a variable (*`generated_music`*). "
   ],
   "id": "2d0f8e752a972cef"
  },
  {
   "metadata": {},
   "cell_type": "code",
   "source": [
    "def generate_music(matrix, start_note, length=50):\n",
    "    music = [start_note]\n",
    "    current_note = start_note\n",
    "    \n",
    "    for _ in range(length - 1):\n",
    "        next_note = random.choice(matrix[current_note])\n",
    "        music.append(next_note)\n",
    "        current_note = next_note\n",
    "    \n",
    "    return music"
   ],
   "id": "7d06b922e9a3b415",
   "outputs": [],
   "execution_count": null
  },
  {
   "metadata": {},
   "cell_type": "code",
   "source": [
    "starting_note = random.choice(notes)\n",
    "generated_music = generate_music(transition_matrix, starting_note, length=20)"
   ],
   "id": "4184b12c3af14b7b",
   "outputs": [],
   "execution_count": null
  },
  {
   "metadata": {},
   "cell_type": "markdown",
   "source": [
    "## Save Generated Music\n",
    "\n",
    "The function *`save_generated_music_as_midi()`* saves the generated music sequence as a MIDI file:\n",
    "1. *`midi_data`*: Create a new PrettyMIDI object;\n",
    "2. *`instrument`*: Create a new PrettyMIDI instrument and select its type;\n",
    "3. *`start_time`* & *`duration`*: Set start time of the note & set its duration;\n",
    "4. Iterate through the notes of the generated music and append it to the *`instrument`*'s notes;\n",
    "5. *`instrument`*'s notes are appended to the *`midi_data`* variable;\n",
    "6. The *`midi_data`* is saved at the provided file save path."
   ],
   "id": "ec1cd5a69af4f70e"
  },
  {
   "metadata": {},
   "cell_type": "code",
   "source": [
    "def save_generated_music_as_midi(gen_music, midi_save_path):\n",
    "    midi_data = pm.PrettyMIDI()\n",
    "    instrument = pm.Instrument(program=0)  # program=0 is Acoustic Grand Piano\n",
    "    \n",
    "    start_time = 0.0\n",
    "    duration = 0.5\n",
    "    \n",
    "    for note_name in gen_music:\n",
    "        note_number = pm.note_name_to_number(note_name)\n",
    "        note = pm.Note(velocity=50,   # Volume Level\n",
    "                                pitch=note_number, \n",
    "                                start=start_time, \n",
    "                                end=start_time + duration)\n",
    "        instrument.notes.append(note)\n",
    "        \n",
    "        start_time += duration\n",
    "    \n",
    "    midi_data.instruments.append(instrument)\n",
    "    midi_data.write(midi_save_path)"
   ],
   "id": "7f7844fa4b0b864e",
   "outputs": [],
   "execution_count": null
  },
  {
   "metadata": {},
   "cell_type": "code",
   "source": [
    "# Set folder to save MIDI file in\n",
    "folder_path = \"midi_files_generated\"\n",
    "\n",
    "# Check if the provided folder exists, and if it doesn't - create it\n",
    "os.makedirs(folder_path, exist_ok=True)\n",
    "\n",
    "# Set MIDI file name\n",
    "midi_filename = \"markov_music_inspired.mid\"\n",
    "\n",
    "# Set output MIDI file path\n",
    "output_midi_file_path = os.path.join(folder_path, midi_filename)\n",
    "\n",
    "# Save the generated music as MIDI file\n",
    "save_music = save_generated_music_as_midi(generated_music, output_midi_file_path)"
   ],
   "id": "27b934c1bd0bd6e4",
   "outputs": [],
   "execution_count": null
  },
  {
   "metadata": {},
   "cell_type": "markdown",
   "source": [
    "## Play Generated Music\n",
    "\n",
    "To play the MIDI file is required to: \n",
    "1. Initialize the Pygame library (*`pygame.init()`*);\n",
    "2. Initialize the Pygame mixer module for playing sound (*`pygame.mixer.init()`*);\n",
    "3.  Load the generated MIDI file (*`pygame.mixer.music.load(midi_filename)`*);\n",
    "4. Start playing the MIDI file (*`pygame.mixer.music.play()`*);\n",
    "5. Wait until the music finishes playing (*`while pygame.mixer.music.get_busy()`*);\n",
    "6. Quit Pygame (*`pygame.quit()`*)."
   ],
   "id": "df30a252cc4ac253"
  },
  {
   "metadata": {},
   "cell_type": "code",
   "source": [
    "def play_midi_file(midi_file):\n",
    "    pygame.init()\n",
    "    pygame.mixer.init()\n",
    "    pygame.mixer.music.load(midi_file)\n",
    "    pygame.mixer.music.play()\n",
    "\n",
    "    while pygame.mixer.music.get_busy():\n",
    "        time.sleep(1)\n",
    "\n",
    "    pygame.quit()\n"
   ],
   "id": "d11391d0d2d6ded",
   "outputs": [],
   "execution_count": null
  },
  {
   "metadata": {},
   "cell_type": "code",
   "source": [
    "# Play the generated MIDI file\n",
    "play_midi_file(output_midi_file_path)"
   ],
   "id": "6891784c7fd62bdf",
   "outputs": [],
   "execution_count": null
  },
  {
   "metadata": {},
   "cell_type": "markdown",
   "source": [
    "## Credits\n",
    "\n",
    "1. MIDI Files Downloaded from [BitMidi](https://bitmidi.com)"
   ],
   "id": "6a784bfffc77192a"
  }
 ],
 "metadata": {
  "kernelspec": {
   "display_name": "Python 3",
   "language": "python",
   "name": "python3"
  },
  "language_info": {
   "codemirror_mode": {
    "name": "ipython",
    "version": 2
   },
   "file_extension": ".py",
   "mimetype": "text/x-python",
   "name": "python",
   "nbconvert_exporter": "python",
   "pygments_lexer": "ipython2",
   "version": "2.7.6"
  }
 },
 "nbformat": 4,
 "nbformat_minor": 5
}
