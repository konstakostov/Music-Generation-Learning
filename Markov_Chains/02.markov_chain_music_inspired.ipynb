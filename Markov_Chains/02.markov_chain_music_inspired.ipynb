{
 "cells": [
  {
   "metadata": {},
   "cell_type": "markdown",
   "source": "# Generating music with Markov Chains using real music as training data",
   "id": "1632d6c5b7698428"
  },
  {
   "metadata": {},
   "cell_type": "markdown",
   "source": [
    "## Import all required libraries\n",
    "\n",
    "- *`random`*: For generating random choices. It is used to select the next note in the music sequence;\n",
    "\n",
    "\n",
    "- *`mingus`*: Library for handling musical notation and MIDI files;\n",
    "- *`Note`*: Represents a musical note;\n",
    "- *`Bar`:* Classes for creating and managing MIDI bars of music;\n",
    "- *`Track`*: Classes for creating and managing MIDI tracks of music;\n",
    "- *`midi_file_out`*: Module for writing MIDI files;\n",
    "\n",
    "\n",
    "- *`pygame`*: Library for creating games. It is used to play the MIDI file sounds;\n",
    "\n",
    "\n",
    "- *`time`*: Used to pause execution while the music is playing."
   ],
   "id": "41d438aecd096fca"
  },
  {
   "metadata": {
    "ExecuteTime": {
     "end_time": "2024-08-11T15:03:06.967905Z",
     "start_time": "2024-08-11T15:03:06.777430Z"
    }
   },
   "cell_type": "code",
   "source": [
    "import pretty_midi\n",
    "\n",
    "from collections import defaultdict\n",
    "\n",
    "import random\n",
    "\n",
    "import os\n",
    "\n",
    "import pygame\n",
    "\n",
    "import time"
   ],
   "id": "970df7a1909e8999",
   "outputs": [
    {
     "name": "stdout",
     "output_type": "stream",
     "text": [
      "pygame 2.6.0 (SDL 2.28.4, Python 3.9.19)\n",
      "Hello from the pygame community. https://www.pygame.org/contribute.html\n"
     ]
    }
   ],
   "execution_count": 1
  },
  {
   "metadata": {},
   "cell_type": "markdown",
   "source": "## Preprocess Music Data",
   "id": "b72fa0c7b2ddb30d"
  },
  {
   "metadata": {},
   "cell_type": "markdown",
   "source": [
    "### Extract notes from a MIDI file\n",
    "\n",
    "The first step is to extract the notes from a MIDI file using the function *`extract_notes_from_midi()`*.\n",
    "1. The *`extracted_notes`* list will store all extracted notes from the imported MIDI file;\n",
    "2. The MIDI file is loaded and stored int *`midi_data`*;\n",
    "3. All the instrument data is extracted by iterating through the MIDI file data. The extracted notes are appended to the *`extracted_notes`* list;\n",
    "4. The function returns the *`extracted_notes`* list, containing all the extracted data from the MIDI file."
   ],
   "id": "168b9e573d168e0d"
  },
  {
   "metadata": {
    "ExecuteTime": {
     "end_time": "2024-08-11T15:03:06.975493Z",
     "start_time": "2024-08-11T15:03:06.969864Z"
    }
   },
   "cell_type": "code",
   "source": [
    "def extract_notes_from_midi(midi_file_path):\n",
    "    extracted_notes = []\n",
    "    \n",
    "    # Load the MIDI file\n",
    "    midi_data = pretty_midi.PrettyMIDI(midi_file_path)\n",
    "    \n",
    "    # Extract notes from all instruments\n",
    "    for instrument in midi_data.instruments:\n",
    "        for note in instrument.notes:\n",
    "            extracted_notes.append(pretty_midi.note_number_to_name(note.pitch))\n",
    "    \n",
    "    return extracted_notes"
   ],
   "id": "a55a8ca75c717278",
   "outputs": [],
   "execution_count": 2
  },
  {
   "metadata": {
    "ExecuteTime": {
     "end_time": "2024-08-11T15:03:07.302721Z",
     "start_time": "2024-08-11T15:03:06.977490Z"
    }
   },
   "cell_type": "code",
   "source": [
    "# MIDI file path\n",
    "midi_path = \"midi_files/Never-Gonna-Give-You-Up-2.mid\"\n",
    "\n",
    "# Calling the extract_notes_from_midi() function and storing all the extracted notes\n",
    "notes = extract_notes_from_midi(midi_path)"
   ],
   "id": "302197a5bed4706e",
   "outputs": [],
   "execution_count": 3
  },
  {
   "metadata": {},
   "cell_type": "markdown",
   "source": "## Build Transformation Matrix",
   "id": "8abfe9e26977b607"
  },
  {
   "metadata": {
    "ExecuteTime": {
     "end_time": "2024-08-11T15:03:07.309943Z",
     "start_time": "2024-08-11T15:03:07.305572Z"
    }
   },
   "cell_type": "code",
   "source": [
    "def build_transition_matrix(music_notes):\n",
    "    transition_matrix_new = defaultdict(list)\n",
    "    \n",
    "    for i in range(len(music_notes) - 1):\n",
    "        current_note = music_notes[i]\n",
    "        next_note = music_notes[i + 1]\n",
    "        \n",
    "        transition_matrix_new[current_note].append(next_note)\n",
    "    \n",
    "    return transition_matrix_new"
   ],
   "id": "4894e545d8bfd6c8",
   "outputs": [],
   "execution_count": 4
  },
  {
   "metadata": {
    "ExecuteTime": {
     "end_time": "2024-08-11T15:03:07.321174Z",
     "start_time": "2024-08-11T15:03:07.311925Z"
    }
   },
   "cell_type": "code",
   "source": "transition_matrix = build_transition_matrix(notes)",
   "id": "205002fe00457fad",
   "outputs": [],
   "execution_count": 5
  },
  {
   "metadata": {},
   "cell_type": "markdown",
   "source": "## Generate Music",
   "id": "2d0f8e752a972cef"
  },
  {
   "metadata": {
    "ExecuteTime": {
     "end_time": "2024-08-11T15:03:07.329756Z",
     "start_time": "2024-08-11T15:03:07.323140Z"
    }
   },
   "cell_type": "code",
   "source": [
    "def generate_music(matrix, start_note, length=50):\n",
    "    music = [start_note]\n",
    "    current_note = start_note\n",
    "    \n",
    "    for _ in range(length - 1):\n",
    "        next_note = random.choice(matrix[current_note])\n",
    "        music.append(next_note)\n",
    "        current_note = next_note\n",
    "    \n",
    "    return music"
   ],
   "id": "7d06b922e9a3b415",
   "outputs": [],
   "execution_count": 6
  },
  {
   "metadata": {
    "ExecuteTime": {
     "end_time": "2024-08-11T15:03:07.337556Z",
     "start_time": "2024-08-11T15:03:07.331208Z"
    }
   },
   "cell_type": "code",
   "source": [
    "starting_note = random.choice(notes)\n",
    "generated_music = generate_music(transition_matrix, starting_note, length=20)"
   ],
   "id": "4184b12c3af14b7b",
   "outputs": [],
   "execution_count": 7
  },
  {
   "metadata": {},
   "cell_type": "markdown",
   "source": "## Save Generated Music",
   "id": "ec1cd5a69af4f70e"
  },
  {
   "metadata": {
    "ExecuteTime": {
     "end_time": "2024-08-11T15:03:07.346113Z",
     "start_time": "2024-08-11T15:03:07.340779Z"
    }
   },
   "cell_type": "code",
   "source": [
    "def save_generated_music_as_midi(gen_music, midi_save_path):\n",
    "    midi_data = pretty_midi.PrettyMIDI()\n",
    "    instrument = pretty_midi.Instrument(program=0)  # program=0 is Acoustic Grand Piano\n",
    "    \n",
    "    start_time = 0.0\n",
    "    duration = 0.5\n",
    "    \n",
    "    for note_name in gen_music:\n",
    "        note_number = pretty_midi.note_name_to_number(note_name)\n",
    "        note = pretty_midi.Note(velocity=50,   # Volume Level\n",
    "                                pitch=note_number, \n",
    "                                start=start_time, \n",
    "                                end=start_time + duration)\n",
    "        instrument.notes.append(note)\n",
    "        \n",
    "        start_time += duration\n",
    "    \n",
    "    midi_data.instruments.append(instrument)\n",
    "    midi_data.write(midi_save_path)"
   ],
   "id": "7f7844fa4b0b864e",
   "outputs": [],
   "execution_count": 8
  },
  {
   "metadata": {
    "ExecuteTime": {
     "end_time": "2024-08-11T15:03:07.356930Z",
     "start_time": "2024-08-11T15:03:07.348230Z"
    }
   },
   "cell_type": "code",
   "source": [
    "# Set folder to save MIDI file in\n",
    "folder_path = \"midi_files_generated\"\n",
    "\n",
    "# Check if the provided folder exists, and if it doesn't - create it\n",
    "os.makedirs(folder_path, exist_ok=True)\n",
    "\n",
    "# Set MIDI file name\n",
    "midi_filename = \"markov_music_inspired.mid\"\n",
    "\n",
    "output_midi_file_path = os.path.join(folder_path, midi_filename)\n",
    "\n",
    "save_music = save_generated_music_as_midi(generated_music, output_midi_file_path)"
   ],
   "id": "27b934c1bd0bd6e4",
   "outputs": [],
   "execution_count": 9
  },
  {
   "metadata": {},
   "cell_type": "markdown",
   "source": "## Play Generated Music",
   "id": "df30a252cc4ac253"
  },
  {
   "metadata": {
    "ExecuteTime": {
     "end_time": "2024-08-11T15:03:07.366651Z",
     "start_time": "2024-08-11T15:03:07.359416Z"
    }
   },
   "cell_type": "code",
   "source": [
    "def play_midi_file(midi_file):\n",
    "    pygame.init()\n",
    "    pygame.mixer.init()\n",
    "    pygame.mixer.music.load(midi_file)\n",
    "    pygame.mixer.music.play()\n",
    "\n",
    "    while pygame.mixer.music.get_busy():\n",
    "        time.sleep(1)\n",
    "\n",
    "    pygame.quit()\n"
   ],
   "id": "d11391d0d2d6ded",
   "outputs": [],
   "execution_count": 10
  },
  {
   "metadata": {
    "ExecuteTime": {
     "end_time": "2024-08-11T15:03:17.662201Z",
     "start_time": "2024-08-11T15:03:07.368184Z"
    }
   },
   "cell_type": "code",
   "source": [
    "# Play the generated MIDI file\n",
    "play_midi_file(output_midi_file_path)"
   ],
   "id": "6891784c7fd62bdf",
   "outputs": [],
   "execution_count": 11
  },
  {
   "metadata": {},
   "cell_type": "markdown",
   "source": [
    "## Credits\n",
    "\n",
    "1. MIDI Files Downloaded from [BitMidi](https://bitmidi.com)"
   ],
   "id": "6a784bfffc77192a"
  }
 ],
 "metadata": {
  "kernelspec": {
   "display_name": "Python 3",
   "language": "python",
   "name": "python3"
  },
  "language_info": {
   "codemirror_mode": {
    "name": "ipython",
    "version": 2
   },
   "file_extension": ".py",
   "mimetype": "text/x-python",
   "name": "python",
   "nbconvert_exporter": "python",
   "pygments_lexer": "ipython2",
   "version": "2.7.6"
  }
 },
 "nbformat": 4,
 "nbformat_minor": 5
}
